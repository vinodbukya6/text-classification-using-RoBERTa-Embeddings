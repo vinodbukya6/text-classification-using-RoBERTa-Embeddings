{
  "nbformat": 4,
  "nbformat_minor": 0,
  "metadata": {
    "accelerator": "TPU",
    "colab": {
      "name": "Copy of sentiment-conv-amazon.ipynb",
      "provenance": [],
      "collapsed_sections": []
    },
    "kernelspec": {
      "display_name": "Python 3",
      "name": "python3"
    },
    "widgets": {
      "application/vnd.jupyter.widget-state+json": {
        "89b02f81631b4220b0a8c857a7738a85": {
          "model_module": "@jupyter-widgets/controls",
          "model_name": "HBoxModel",
          "state": {
            "_view_name": "HBoxView",
            "_dom_classes": [],
            "_model_name": "HBoxModel",
            "_view_module": "@jupyter-widgets/controls",
            "_model_module_version": "1.5.0",
            "_view_count": null,
            "_view_module_version": "1.5.0",
            "box_style": "",
            "layout": "IPY_MODEL_10847c33669445f7a12050d4bc97390a",
            "_model_module": "@jupyter-widgets/controls",
            "children": [
              "IPY_MODEL_a25c64a1a8f642a2b31e65d887a28c61",
              "IPY_MODEL_7d31e114e99b462c9b8a68bebb707be6"
            ]
          }
        },
        "10847c33669445f7a12050d4bc97390a": {
          "model_module": "@jupyter-widgets/base",
          "model_name": "LayoutModel",
          "state": {
            "_view_name": "LayoutView",
            "grid_template_rows": null,
            "right": null,
            "justify_content": null,
            "_view_module": "@jupyter-widgets/base",
            "overflow": null,
            "_model_module_version": "1.2.0",
            "_view_count": null,
            "flex_flow": null,
            "width": null,
            "min_width": null,
            "border": null,
            "align_items": null,
            "bottom": null,
            "_model_module": "@jupyter-widgets/base",
            "top": null,
            "grid_column": null,
            "overflow_y": null,
            "overflow_x": null,
            "grid_auto_flow": null,
            "grid_area": null,
            "grid_template_columns": null,
            "flex": null,
            "_model_name": "LayoutModel",
            "justify_items": null,
            "grid_row": null,
            "max_height": null,
            "align_content": null,
            "visibility": null,
            "align_self": null,
            "height": null,
            "min_height": null,
            "padding": null,
            "grid_auto_rows": null,
            "grid_gap": null,
            "max_width": null,
            "order": null,
            "_view_module_version": "1.2.0",
            "grid_template_areas": null,
            "object_position": null,
            "object_fit": null,
            "grid_auto_columns": null,
            "margin": null,
            "display": null,
            "left": null
          }
        },
        "a25c64a1a8f642a2b31e65d887a28c61": {
          "model_module": "@jupyter-widgets/controls",
          "model_name": "FloatProgressModel",
          "state": {
            "_view_name": "ProgressView",
            "style": "IPY_MODEL_a7129317c9ab47d19ac53905641df9a9",
            "_dom_classes": [],
            "description": "Downloading: 100%",
            "_model_name": "FloatProgressModel",
            "bar_style": "success",
            "max": 898823,
            "_view_module": "@jupyter-widgets/controls",
            "_model_module_version": "1.5.0",
            "value": 898823,
            "_view_count": null,
            "_view_module_version": "1.5.0",
            "orientation": "horizontal",
            "min": 0,
            "description_tooltip": null,
            "_model_module": "@jupyter-widgets/controls",
            "layout": "IPY_MODEL_0a53dfef4ab044a4ae56618755f30b41"
          }
        },
        "7d31e114e99b462c9b8a68bebb707be6": {
          "model_module": "@jupyter-widgets/controls",
          "model_name": "HTMLModel",
          "state": {
            "_view_name": "HTMLView",
            "style": "IPY_MODEL_fd3f0095c37248b29523820f9a466512",
            "_dom_classes": [],
            "description": "",
            "_model_name": "HTMLModel",
            "placeholder": "​",
            "_view_module": "@jupyter-widgets/controls",
            "_model_module_version": "1.5.0",
            "value": " 899k/899k [00:00&lt;00:00, 1.42MB/s]",
            "_view_count": null,
            "_view_module_version": "1.5.0",
            "description_tooltip": null,
            "_model_module": "@jupyter-widgets/controls",
            "layout": "IPY_MODEL_cdf03ff4dc384d89b38d38e0ea517dc2"
          }
        },
        "a7129317c9ab47d19ac53905641df9a9": {
          "model_module": "@jupyter-widgets/controls",
          "model_name": "ProgressStyleModel",
          "state": {
            "_view_name": "StyleView",
            "_model_name": "ProgressStyleModel",
            "description_width": "initial",
            "_view_module": "@jupyter-widgets/base",
            "_model_module_version": "1.5.0",
            "_view_count": null,
            "_view_module_version": "1.2.0",
            "bar_color": null,
            "_model_module": "@jupyter-widgets/controls"
          }
        },
        "0a53dfef4ab044a4ae56618755f30b41": {
          "model_module": "@jupyter-widgets/base",
          "model_name": "LayoutModel",
          "state": {
            "_view_name": "LayoutView",
            "grid_template_rows": null,
            "right": null,
            "justify_content": null,
            "_view_module": "@jupyter-widgets/base",
            "overflow": null,
            "_model_module_version": "1.2.0",
            "_view_count": null,
            "flex_flow": null,
            "width": null,
            "min_width": null,
            "border": null,
            "align_items": null,
            "bottom": null,
            "_model_module": "@jupyter-widgets/base",
            "top": null,
            "grid_column": null,
            "overflow_y": null,
            "overflow_x": null,
            "grid_auto_flow": null,
            "grid_area": null,
            "grid_template_columns": null,
            "flex": null,
            "_model_name": "LayoutModel",
            "justify_items": null,
            "grid_row": null,
            "max_height": null,
            "align_content": null,
            "visibility": null,
            "align_self": null,
            "height": null,
            "min_height": null,
            "padding": null,
            "grid_auto_rows": null,
            "grid_gap": null,
            "max_width": null,
            "order": null,
            "_view_module_version": "1.2.0",
            "grid_template_areas": null,
            "object_position": null,
            "object_fit": null,
            "grid_auto_columns": null,
            "margin": null,
            "display": null,
            "left": null
          }
        },
        "fd3f0095c37248b29523820f9a466512": {
          "model_module": "@jupyter-widgets/controls",
          "model_name": "DescriptionStyleModel",
          "state": {
            "_view_name": "StyleView",
            "_model_name": "DescriptionStyleModel",
            "description_width": "",
            "_view_module": "@jupyter-widgets/base",
            "_model_module_version": "1.5.0",
            "_view_count": null,
            "_view_module_version": "1.2.0",
            "_model_module": "@jupyter-widgets/controls"
          }
        },
        "cdf03ff4dc384d89b38d38e0ea517dc2": {
          "model_module": "@jupyter-widgets/base",
          "model_name": "LayoutModel",
          "state": {
            "_view_name": "LayoutView",
            "grid_template_rows": null,
            "right": null,
            "justify_content": null,
            "_view_module": "@jupyter-widgets/base",
            "overflow": null,
            "_model_module_version": "1.2.0",
            "_view_count": null,
            "flex_flow": null,
            "width": null,
            "min_width": null,
            "border": null,
            "align_items": null,
            "bottom": null,
            "_model_module": "@jupyter-widgets/base",
            "top": null,
            "grid_column": null,
            "overflow_y": null,
            "overflow_x": null,
            "grid_auto_flow": null,
            "grid_area": null,
            "grid_template_columns": null,
            "flex": null,
            "_model_name": "LayoutModel",
            "justify_items": null,
            "grid_row": null,
            "max_height": null,
            "align_content": null,
            "visibility": null,
            "align_self": null,
            "height": null,
            "min_height": null,
            "padding": null,
            "grid_auto_rows": null,
            "grid_gap": null,
            "max_width": null,
            "order": null,
            "_view_module_version": "1.2.0",
            "grid_template_areas": null,
            "object_position": null,
            "object_fit": null,
            "grid_auto_columns": null,
            "margin": null,
            "display": null,
            "left": null
          }
        },
        "b2cbd30ffda54546ab552b4b5edb5dc0": {
          "model_module": "@jupyter-widgets/controls",
          "model_name": "HBoxModel",
          "state": {
            "_view_name": "HBoxView",
            "_dom_classes": [],
            "_model_name": "HBoxModel",
            "_view_module": "@jupyter-widgets/controls",
            "_model_module_version": "1.5.0",
            "_view_count": null,
            "_view_module_version": "1.5.0",
            "box_style": "",
            "layout": "IPY_MODEL_97ad864a8d564577be63801f72ae6dfd",
            "_model_module": "@jupyter-widgets/controls",
            "children": [
              "IPY_MODEL_4d6fcd98177d4aaca241834cb459bd8d",
              "IPY_MODEL_49145d495fe04331bac2f306e0952d43"
            ]
          }
        },
        "97ad864a8d564577be63801f72ae6dfd": {
          "model_module": "@jupyter-widgets/base",
          "model_name": "LayoutModel",
          "state": {
            "_view_name": "LayoutView",
            "grid_template_rows": null,
            "right": null,
            "justify_content": null,
            "_view_module": "@jupyter-widgets/base",
            "overflow": null,
            "_model_module_version": "1.2.0",
            "_view_count": null,
            "flex_flow": null,
            "width": null,
            "min_width": null,
            "border": null,
            "align_items": null,
            "bottom": null,
            "_model_module": "@jupyter-widgets/base",
            "top": null,
            "grid_column": null,
            "overflow_y": null,
            "overflow_x": null,
            "grid_auto_flow": null,
            "grid_area": null,
            "grid_template_columns": null,
            "flex": null,
            "_model_name": "LayoutModel",
            "justify_items": null,
            "grid_row": null,
            "max_height": null,
            "align_content": null,
            "visibility": null,
            "align_self": null,
            "height": null,
            "min_height": null,
            "padding": null,
            "grid_auto_rows": null,
            "grid_gap": null,
            "max_width": null,
            "order": null,
            "_view_module_version": "1.2.0",
            "grid_template_areas": null,
            "object_position": null,
            "object_fit": null,
            "grid_auto_columns": null,
            "margin": null,
            "display": null,
            "left": null
          }
        },
        "4d6fcd98177d4aaca241834cb459bd8d": {
          "model_module": "@jupyter-widgets/controls",
          "model_name": "FloatProgressModel",
          "state": {
            "_view_name": "ProgressView",
            "style": "IPY_MODEL_8ef0c746f86e4c4cb4fbe337f1b12ff6",
            "_dom_classes": [],
            "description": "Downloading: 100%",
            "_model_name": "FloatProgressModel",
            "bar_style": "success",
            "max": 456318,
            "_view_module": "@jupyter-widgets/controls",
            "_model_module_version": "1.5.0",
            "value": 456318,
            "_view_count": null,
            "_view_module_version": "1.5.0",
            "orientation": "horizontal",
            "min": 0,
            "description_tooltip": null,
            "_model_module": "@jupyter-widgets/controls",
            "layout": "IPY_MODEL_1d6bd54260604461b2b74ed23faa9a32"
          }
        },
        "49145d495fe04331bac2f306e0952d43": {
          "model_module": "@jupyter-widgets/controls",
          "model_name": "HTMLModel",
          "state": {
            "_view_name": "HTMLView",
            "style": "IPY_MODEL_a90f97237b8d43319e4b6dcb31c9c3b3",
            "_dom_classes": [],
            "description": "",
            "_model_name": "HTMLModel",
            "placeholder": "​",
            "_view_module": "@jupyter-widgets/controls",
            "_model_module_version": "1.5.0",
            "value": " 456k/456k [00:00&lt;00:00, 2.05MB/s]",
            "_view_count": null,
            "_view_module_version": "1.5.0",
            "description_tooltip": null,
            "_model_module": "@jupyter-widgets/controls",
            "layout": "IPY_MODEL_7841aa9644a940ea82495cc862aefce7"
          }
        },
        "8ef0c746f86e4c4cb4fbe337f1b12ff6": {
          "model_module": "@jupyter-widgets/controls",
          "model_name": "ProgressStyleModel",
          "state": {
            "_view_name": "StyleView",
            "_model_name": "ProgressStyleModel",
            "description_width": "initial",
            "_view_module": "@jupyter-widgets/base",
            "_model_module_version": "1.5.0",
            "_view_count": null,
            "_view_module_version": "1.2.0",
            "bar_color": null,
            "_model_module": "@jupyter-widgets/controls"
          }
        },
        "1d6bd54260604461b2b74ed23faa9a32": {
          "model_module": "@jupyter-widgets/base",
          "model_name": "LayoutModel",
          "state": {
            "_view_name": "LayoutView",
            "grid_template_rows": null,
            "right": null,
            "justify_content": null,
            "_view_module": "@jupyter-widgets/base",
            "overflow": null,
            "_model_module_version": "1.2.0",
            "_view_count": null,
            "flex_flow": null,
            "width": null,
            "min_width": null,
            "border": null,
            "align_items": null,
            "bottom": null,
            "_model_module": "@jupyter-widgets/base",
            "top": null,
            "grid_column": null,
            "overflow_y": null,
            "overflow_x": null,
            "grid_auto_flow": null,
            "grid_area": null,
            "grid_template_columns": null,
            "flex": null,
            "_model_name": "LayoutModel",
            "justify_items": null,
            "grid_row": null,
            "max_height": null,
            "align_content": null,
            "visibility": null,
            "align_self": null,
            "height": null,
            "min_height": null,
            "padding": null,
            "grid_auto_rows": null,
            "grid_gap": null,
            "max_width": null,
            "order": null,
            "_view_module_version": "1.2.0",
            "grid_template_areas": null,
            "object_position": null,
            "object_fit": null,
            "grid_auto_columns": null,
            "margin": null,
            "display": null,
            "left": null
          }
        },
        "a90f97237b8d43319e4b6dcb31c9c3b3": {
          "model_module": "@jupyter-widgets/controls",
          "model_name": "DescriptionStyleModel",
          "state": {
            "_view_name": "StyleView",
            "_model_name": "DescriptionStyleModel",
            "description_width": "",
            "_view_module": "@jupyter-widgets/base",
            "_model_module_version": "1.5.0",
            "_view_count": null,
            "_view_module_version": "1.2.0",
            "_model_module": "@jupyter-widgets/controls"
          }
        },
        "7841aa9644a940ea82495cc862aefce7": {
          "model_module": "@jupyter-widgets/base",
          "model_name": "LayoutModel",
          "state": {
            "_view_name": "LayoutView",
            "grid_template_rows": null,
            "right": null,
            "justify_content": null,
            "_view_module": "@jupyter-widgets/base",
            "overflow": null,
            "_model_module_version": "1.2.0",
            "_view_count": null,
            "flex_flow": null,
            "width": null,
            "min_width": null,
            "border": null,
            "align_items": null,
            "bottom": null,
            "_model_module": "@jupyter-widgets/base",
            "top": null,
            "grid_column": null,
            "overflow_y": null,
            "overflow_x": null,
            "grid_auto_flow": null,
            "grid_area": null,
            "grid_template_columns": null,
            "flex": null,
            "_model_name": "LayoutModel",
            "justify_items": null,
            "grid_row": null,
            "max_height": null,
            "align_content": null,
            "visibility": null,
            "align_self": null,
            "height": null,
            "min_height": null,
            "padding": null,
            "grid_auto_rows": null,
            "grid_gap": null,
            "max_width": null,
            "order": null,
            "_view_module_version": "1.2.0",
            "grid_template_areas": null,
            "object_position": null,
            "object_fit": null,
            "grid_auto_columns": null,
            "margin": null,
            "display": null,
            "left": null
          }
        },
        "a2439d51833340a298884774ee47c618": {
          "model_module": "@jupyter-widgets/controls",
          "model_name": "HBoxModel",
          "state": {
            "_view_name": "HBoxView",
            "_dom_classes": [],
            "_model_name": "HBoxModel",
            "_view_module": "@jupyter-widgets/controls",
            "_model_module_version": "1.5.0",
            "_view_count": null,
            "_view_module_version": "1.5.0",
            "box_style": "",
            "layout": "IPY_MODEL_f4054fb05f0b472db2cd2f753b112ae1",
            "_model_module": "@jupyter-widgets/controls",
            "children": [
              "IPY_MODEL_442ecaa6b3e1408d95254e06f946d804",
              "IPY_MODEL_43adf93436d14d039a8450fabfa128f9"
            ]
          }
        },
        "f4054fb05f0b472db2cd2f753b112ae1": {
          "model_module": "@jupyter-widgets/base",
          "model_name": "LayoutModel",
          "state": {
            "_view_name": "LayoutView",
            "grid_template_rows": null,
            "right": null,
            "justify_content": null,
            "_view_module": "@jupyter-widgets/base",
            "overflow": null,
            "_model_module_version": "1.2.0",
            "_view_count": null,
            "flex_flow": null,
            "width": null,
            "min_width": null,
            "border": null,
            "align_items": null,
            "bottom": null,
            "_model_module": "@jupyter-widgets/base",
            "top": null,
            "grid_column": null,
            "overflow_y": null,
            "overflow_x": null,
            "grid_auto_flow": null,
            "grid_area": null,
            "grid_template_columns": null,
            "flex": null,
            "_model_name": "LayoutModel",
            "justify_items": null,
            "grid_row": null,
            "max_height": null,
            "align_content": null,
            "visibility": null,
            "align_self": null,
            "height": null,
            "min_height": null,
            "padding": null,
            "grid_auto_rows": null,
            "grid_gap": null,
            "max_width": null,
            "order": null,
            "_view_module_version": "1.2.0",
            "grid_template_areas": null,
            "object_position": null,
            "object_fit": null,
            "grid_auto_columns": null,
            "margin": null,
            "display": null,
            "left": null
          }
        },
        "442ecaa6b3e1408d95254e06f946d804": {
          "model_module": "@jupyter-widgets/controls",
          "model_name": "FloatProgressModel",
          "state": {
            "_view_name": "ProgressView",
            "style": "IPY_MODEL_c70fd930bc9a4d4fb948475c7b55714f",
            "_dom_classes": [],
            "description": "Downloading: 100%",
            "_model_name": "FloatProgressModel",
            "bar_style": "success",
            "max": 481,
            "_view_module": "@jupyter-widgets/controls",
            "_model_module_version": "1.5.0",
            "value": 481,
            "_view_count": null,
            "_view_module_version": "1.5.0",
            "orientation": "horizontal",
            "min": 0,
            "description_tooltip": null,
            "_model_module": "@jupyter-widgets/controls",
            "layout": "IPY_MODEL_a1f15f3fdee2456ea502cad70dc8f93f"
          }
        },
        "43adf93436d14d039a8450fabfa128f9": {
          "model_module": "@jupyter-widgets/controls",
          "model_name": "HTMLModel",
          "state": {
            "_view_name": "HTMLView",
            "style": "IPY_MODEL_26a05e9c21604ad9833efd20306413af",
            "_dom_classes": [],
            "description": "",
            "_model_name": "HTMLModel",
            "placeholder": "​",
            "_view_module": "@jupyter-widgets/controls",
            "_model_module_version": "1.5.0",
            "value": " 481/481 [00:17&lt;00:00, 28.2B/s]",
            "_view_count": null,
            "_view_module_version": "1.5.0",
            "description_tooltip": null,
            "_model_module": "@jupyter-widgets/controls",
            "layout": "IPY_MODEL_26154d374ad54dd6a0b6ba0b8b938855"
          }
        },
        "c70fd930bc9a4d4fb948475c7b55714f": {
          "model_module": "@jupyter-widgets/controls",
          "model_name": "ProgressStyleModel",
          "state": {
            "_view_name": "StyleView",
            "_model_name": "ProgressStyleModel",
            "description_width": "initial",
            "_view_module": "@jupyter-widgets/base",
            "_model_module_version": "1.5.0",
            "_view_count": null,
            "_view_module_version": "1.2.0",
            "bar_color": null,
            "_model_module": "@jupyter-widgets/controls"
          }
        },
        "a1f15f3fdee2456ea502cad70dc8f93f": {
          "model_module": "@jupyter-widgets/base",
          "model_name": "LayoutModel",
          "state": {
            "_view_name": "LayoutView",
            "grid_template_rows": null,
            "right": null,
            "justify_content": null,
            "_view_module": "@jupyter-widgets/base",
            "overflow": null,
            "_model_module_version": "1.2.0",
            "_view_count": null,
            "flex_flow": null,
            "width": null,
            "min_width": null,
            "border": null,
            "align_items": null,
            "bottom": null,
            "_model_module": "@jupyter-widgets/base",
            "top": null,
            "grid_column": null,
            "overflow_y": null,
            "overflow_x": null,
            "grid_auto_flow": null,
            "grid_area": null,
            "grid_template_columns": null,
            "flex": null,
            "_model_name": "LayoutModel",
            "justify_items": null,
            "grid_row": null,
            "max_height": null,
            "align_content": null,
            "visibility": null,
            "align_self": null,
            "height": null,
            "min_height": null,
            "padding": null,
            "grid_auto_rows": null,
            "grid_gap": null,
            "max_width": null,
            "order": null,
            "_view_module_version": "1.2.0",
            "grid_template_areas": null,
            "object_position": null,
            "object_fit": null,
            "grid_auto_columns": null,
            "margin": null,
            "display": null,
            "left": null
          }
        },
        "26a05e9c21604ad9833efd20306413af": {
          "model_module": "@jupyter-widgets/controls",
          "model_name": "DescriptionStyleModel",
          "state": {
            "_view_name": "StyleView",
            "_model_name": "DescriptionStyleModel",
            "description_width": "",
            "_view_module": "@jupyter-widgets/base",
            "_model_module_version": "1.5.0",
            "_view_count": null,
            "_view_module_version": "1.2.0",
            "_model_module": "@jupyter-widgets/controls"
          }
        },
        "26154d374ad54dd6a0b6ba0b8b938855": {
          "model_module": "@jupyter-widgets/base",
          "model_name": "LayoutModel",
          "state": {
            "_view_name": "LayoutView",
            "grid_template_rows": null,
            "right": null,
            "justify_content": null,
            "_view_module": "@jupyter-widgets/base",
            "overflow": null,
            "_model_module_version": "1.2.0",
            "_view_count": null,
            "flex_flow": null,
            "width": null,
            "min_width": null,
            "border": null,
            "align_items": null,
            "bottom": null,
            "_model_module": "@jupyter-widgets/base",
            "top": null,
            "grid_column": null,
            "overflow_y": null,
            "overflow_x": null,
            "grid_auto_flow": null,
            "grid_area": null,
            "grid_template_columns": null,
            "flex": null,
            "_model_name": "LayoutModel",
            "justify_items": null,
            "grid_row": null,
            "max_height": null,
            "align_content": null,
            "visibility": null,
            "align_self": null,
            "height": null,
            "min_height": null,
            "padding": null,
            "grid_auto_rows": null,
            "grid_gap": null,
            "max_width": null,
            "order": null,
            "_view_module_version": "1.2.0",
            "grid_template_areas": null,
            "object_position": null,
            "object_fit": null,
            "grid_auto_columns": null,
            "margin": null,
            "display": null,
            "left": null
          }
        },
        "4e7a3ed2e10f4b19bc17548647ae4638": {
          "model_module": "@jupyter-widgets/controls",
          "model_name": "HBoxModel",
          "state": {
            "_view_name": "HBoxView",
            "_dom_classes": [],
            "_model_name": "HBoxModel",
            "_view_module": "@jupyter-widgets/controls",
            "_model_module_version": "1.5.0",
            "_view_count": null,
            "_view_module_version": "1.5.0",
            "box_style": "",
            "layout": "IPY_MODEL_95ae42a10482429d908d8b0ed6aeddbb",
            "_model_module": "@jupyter-widgets/controls",
            "children": [
              "IPY_MODEL_714caca96fed40e6ae603633663aeb3f",
              "IPY_MODEL_3fc1f53a9d904d0abe750343e5ee9f43"
            ]
          }
        },
        "95ae42a10482429d908d8b0ed6aeddbb": {
          "model_module": "@jupyter-widgets/base",
          "model_name": "LayoutModel",
          "state": {
            "_view_name": "LayoutView",
            "grid_template_rows": null,
            "right": null,
            "justify_content": null,
            "_view_module": "@jupyter-widgets/base",
            "overflow": null,
            "_model_module_version": "1.2.0",
            "_view_count": null,
            "flex_flow": null,
            "width": null,
            "min_width": null,
            "border": null,
            "align_items": null,
            "bottom": null,
            "_model_module": "@jupyter-widgets/base",
            "top": null,
            "grid_column": null,
            "overflow_y": null,
            "overflow_x": null,
            "grid_auto_flow": null,
            "grid_area": null,
            "grid_template_columns": null,
            "flex": null,
            "_model_name": "LayoutModel",
            "justify_items": null,
            "grid_row": null,
            "max_height": null,
            "align_content": null,
            "visibility": null,
            "align_self": null,
            "height": null,
            "min_height": null,
            "padding": null,
            "grid_auto_rows": null,
            "grid_gap": null,
            "max_width": null,
            "order": null,
            "_view_module_version": "1.2.0",
            "grid_template_areas": null,
            "object_position": null,
            "object_fit": null,
            "grid_auto_columns": null,
            "margin": null,
            "display": null,
            "left": null
          }
        },
        "714caca96fed40e6ae603633663aeb3f": {
          "model_module": "@jupyter-widgets/controls",
          "model_name": "FloatProgressModel",
          "state": {
            "_view_name": "ProgressView",
            "style": "IPY_MODEL_230fc494aa2047f2b48459a8549a1964",
            "_dom_classes": [],
            "description": "Downloading: 100%",
            "_model_name": "FloatProgressModel",
            "bar_style": "success",
            "max": 657434796,
            "_view_module": "@jupyter-widgets/controls",
            "_model_module_version": "1.5.0",
            "value": 657434796,
            "_view_count": null,
            "_view_module_version": "1.5.0",
            "orientation": "horizontal",
            "min": 0,
            "description_tooltip": null,
            "_model_module": "@jupyter-widgets/controls",
            "layout": "IPY_MODEL_fe514d71052a4836a9f667d13cde675e"
          }
        },
        "3fc1f53a9d904d0abe750343e5ee9f43": {
          "model_module": "@jupyter-widgets/controls",
          "model_name": "HTMLModel",
          "state": {
            "_view_name": "HTMLView",
            "style": "IPY_MODEL_756f9e0b92fd4105bc36ed815a555227",
            "_dom_classes": [],
            "description": "",
            "_model_name": "HTMLModel",
            "placeholder": "​",
            "_view_module": "@jupyter-widgets/controls",
            "_model_module_version": "1.5.0",
            "value": " 657M/657M [00:16&lt;00:00, 40.3MB/s]",
            "_view_count": null,
            "_view_module_version": "1.5.0",
            "description_tooltip": null,
            "_model_module": "@jupyter-widgets/controls",
            "layout": "IPY_MODEL_05349d1cee33491999df6a5f998688f0"
          }
        },
        "230fc494aa2047f2b48459a8549a1964": {
          "model_module": "@jupyter-widgets/controls",
          "model_name": "ProgressStyleModel",
          "state": {
            "_view_name": "StyleView",
            "_model_name": "ProgressStyleModel",
            "description_width": "initial",
            "_view_module": "@jupyter-widgets/base",
            "_model_module_version": "1.5.0",
            "_view_count": null,
            "_view_module_version": "1.2.0",
            "bar_color": null,
            "_model_module": "@jupyter-widgets/controls"
          }
        },
        "fe514d71052a4836a9f667d13cde675e": {
          "model_module": "@jupyter-widgets/base",
          "model_name": "LayoutModel",
          "state": {
            "_view_name": "LayoutView",
            "grid_template_rows": null,
            "right": null,
            "justify_content": null,
            "_view_module": "@jupyter-widgets/base",
            "overflow": null,
            "_model_module_version": "1.2.0",
            "_view_count": null,
            "flex_flow": null,
            "width": null,
            "min_width": null,
            "border": null,
            "align_items": null,
            "bottom": null,
            "_model_module": "@jupyter-widgets/base",
            "top": null,
            "grid_column": null,
            "overflow_y": null,
            "overflow_x": null,
            "grid_auto_flow": null,
            "grid_area": null,
            "grid_template_columns": null,
            "flex": null,
            "_model_name": "LayoutModel",
            "justify_items": null,
            "grid_row": null,
            "max_height": null,
            "align_content": null,
            "visibility": null,
            "align_self": null,
            "height": null,
            "min_height": null,
            "padding": null,
            "grid_auto_rows": null,
            "grid_gap": null,
            "max_width": null,
            "order": null,
            "_view_module_version": "1.2.0",
            "grid_template_areas": null,
            "object_position": null,
            "object_fit": null,
            "grid_auto_columns": null,
            "margin": null,
            "display": null,
            "left": null
          }
        },
        "756f9e0b92fd4105bc36ed815a555227": {
          "model_module": "@jupyter-widgets/controls",
          "model_name": "DescriptionStyleModel",
          "state": {
            "_view_name": "StyleView",
            "_model_name": "DescriptionStyleModel",
            "description_width": "",
            "_view_module": "@jupyter-widgets/base",
            "_model_module_version": "1.5.0",
            "_view_count": null,
            "_view_module_version": "1.2.0",
            "_model_module": "@jupyter-widgets/controls"
          }
        },
        "05349d1cee33491999df6a5f998688f0": {
          "model_module": "@jupyter-widgets/base",
          "model_name": "LayoutModel",
          "state": {
            "_view_name": "LayoutView",
            "grid_template_rows": null,
            "right": null,
            "justify_content": null,
            "_view_module": "@jupyter-widgets/base",
            "overflow": null,
            "_model_module_version": "1.2.0",
            "_view_count": null,
            "flex_flow": null,
            "width": null,
            "min_width": null,
            "border": null,
            "align_items": null,
            "bottom": null,
            "_model_module": "@jupyter-widgets/base",
            "top": null,
            "grid_column": null,
            "overflow_y": null,
            "overflow_x": null,
            "grid_auto_flow": null,
            "grid_area": null,
            "grid_template_columns": null,
            "flex": null,
            "_model_name": "LayoutModel",
            "justify_items": null,
            "grid_row": null,
            "max_height": null,
            "align_content": null,
            "visibility": null,
            "align_self": null,
            "height": null,
            "min_height": null,
            "padding": null,
            "grid_auto_rows": null,
            "grid_gap": null,
            "max_width": null,
            "order": null,
            "_view_module_version": "1.2.0",
            "grid_template_areas": null,
            "object_position": null,
            "object_fit": null,
            "grid_auto_columns": null,
            "margin": null,
            "display": null,
            "left": null
          }
        }
      }
    }
  },
  "cells": [
    {
      "cell_type": "code",
      "metadata": {
        "id": "Tc2ZkK8txKCl"
      },
      "source": [
        "# https://curiousily.com/posts/intent-recognition-with-bert-using-keras-and-tensorflow-2/\n",
        "!pip install transformers"
      ],
      "execution_count": null,
      "outputs": []
    },
    {
      "cell_type": "code",
      "metadata": {
        "colab": {
          "base_uri": "https://localhost:8080/"
        },
        "id": "9bjHqHZz22hm",
        "outputId": "11d447a3-aeb5-477d-ee95-f62a647dabfa"
      },
      "source": [
        "%tensorflow_version 2.x\n",
        "import tensorflow as tf\n",
        "print(tf.__version__)"
      ],
      "execution_count": null,
      "outputs": [
        {
          "output_type": "stream",
          "text": [
            "2.4.1\n"
          ],
          "name": "stdout"
        }
      ]
    },
    {
      "cell_type": "code",
      "metadata": {
        "id": "-3yJbW_728M1",
        "colab": {
          "base_uri": "https://localhost:8080/"
        },
        "outputId": "1705e1ca-5812-4285-fc7d-7e2938c576c5"
      },
      "source": [
        "import numpy as np\n",
        "import pandas as pd\n",
        "from sklearn.model_selection import train_test_split\n",
        "from tqdm import tqdm\n",
        "#import torch\n",
        "#import transformers as ppb\n",
        "import warnings\n",
        "warnings.filterwarnings('ignore')\n",
        "\n",
        "# text preprocessing\n",
        "from nltk.tokenize import word_tokenize\n",
        "import re\n",
        "\n",
        "# plots and metrics\n",
        "import matplotlib.pyplot as plt\n",
        "from sklearn.metrics import accuracy_score, f1_score, confusion_matrix\n",
        "\n",
        "# preparing input to our model\n",
        "from keras.preprocessing.text import Tokenizer\n",
        "from keras.preprocessing.sequence import pad_sequences\n",
        "from keras.utils import to_categorical\n",
        "from keras.models import Sequential, Model, model_from_json\n",
        "\n",
        "\n",
        "# keras layers\n",
        "from keras.models import Sequential\n",
        "from keras.layers import Embedding, Conv1D, GlobalMaxPooling1D, Dense, MaxPooling1D, Dropout, Flatten\n",
        "\n",
        "import nltk\n",
        "nltk.download('punkt')\n",
        "nltk.download('words')\n",
        "words = set(nltk.corpus.words.words())"
      ],
      "execution_count": null,
      "outputs": [
        {
          "output_type": "stream",
          "text": [
            "[nltk_data] Downloading package punkt to /root/nltk_data...\n",
            "[nltk_data]   Unzipping tokenizers/punkt.zip.\n",
            "[nltk_data] Downloading package words to /root/nltk_data...\n",
            "[nltk_data]   Unzipping corpora/words.zip.\n"
          ],
          "name": "stdout"
        }
      ]
    },
    {
      "cell_type": "code",
      "metadata": {
        "colab": {
          "base_uri": "https://localhost:8080/"
        },
        "id": "KEswrCtn-e4x",
        "outputId": "6499a29d-a748-4540-eeee-c65988b2d6f5"
      },
      "source": [
        "# mount drive\n",
        "from google.colab import drive\n",
        "drive.mount('/content/drive') "
      ],
      "execution_count": null,
      "outputs": [
        {
          "output_type": "stream",
          "text": [
            "Mounted at /content/drive\n"
          ],
          "name": "stdout"
        }
      ]
    },
    {
      "cell_type": "code",
      "metadata": {
        "colab": {
          "base_uri": "https://localhost:8080/",
          "height": 204
        },
        "id": "B8cSJN-F-fFA",
        "outputId": "2ee4f7bc-3a21-4b0b-903c-16045b5446b1"
      },
      "source": [
        "folder_path = '/content/drive/My Drive/Multi-Task-W2V/data/pos-neg/'\n",
        "data= pd.read_csv(folder_path + 'combine_con-ama.csv')\n",
        "data.head()"
      ],
      "execution_count": null,
      "outputs": [
        {
          "output_type": "execute_result",
          "data": {
            "text/html": [
              "<div>\n",
              "<style scoped>\n",
              "    .dataframe tbody tr th:only-of-type {\n",
              "        vertical-align: middle;\n",
              "    }\n",
              "\n",
              "    .dataframe tbody tr th {\n",
              "        vertical-align: top;\n",
              "    }\n",
              "\n",
              "    .dataframe thead th {\n",
              "        text-align: right;\n",
              "    }\n",
              "</style>\n",
              "<table border=\"1\" class=\"dataframe\">\n",
              "  <thead>\n",
              "    <tr style=\"text-align: right;\">\n",
              "      <th></th>\n",
              "      <th>text</th>\n",
              "      <th>label</th>\n",
              "    </tr>\n",
              "  </thead>\n",
              "  <tbody>\n",
              "    <tr>\n",
              "      <th>0</th>\n",
              "      <td>I've really been working a lot lately.</td>\n",
              "      <td>neutral</td>\n",
              "    </tr>\n",
              "    <tr>\n",
              "      <th>1</th>\n",
              "      <td>The stock market crashed.</td>\n",
              "      <td>negative</td>\n",
              "    </tr>\n",
              "    <tr>\n",
              "      <th>2</th>\n",
              "      <td>Everybody loves pizza.</td>\n",
              "      <td>positive</td>\n",
              "    </tr>\n",
              "    <tr>\n",
              "      <th>3</th>\n",
              "      <td>If I make an exception for you, I have to do i...</td>\n",
              "      <td>negative</td>\n",
              "    </tr>\n",
              "    <tr>\n",
              "      <th>4</th>\n",
              "      <td>If I have large bills, should I break them whi...</td>\n",
              "      <td>neutral</td>\n",
              "    </tr>\n",
              "  </tbody>\n",
              "</table>\n",
              "</div>"
            ],
            "text/plain": [
              "                                                text     label\n",
              "0             I've really been working a lot lately.   neutral\n",
              "1                         The stock market crashed.   negative\n",
              "2                             Everybody loves pizza.  positive\n",
              "3  If I make an exception for you, I have to do i...  negative\n",
              "4  If I have large bills, should I break them whi...   neutral"
            ]
          },
          "metadata": {
            "tags": []
          },
          "execution_count": 9
        }
      ]
    },
    {
      "cell_type": "code",
      "metadata": {
        "colab": {
          "base_uri": "https://localhost:8080/",
          "height": 204
        },
        "id": "tuyEAg3nUPvZ",
        "outputId": "ff9c84f0-d7fd-4bb9-f00f-6af931d20c3c"
      },
      "source": [
        "data.tail()"
      ],
      "execution_count": null,
      "outputs": [
        {
          "output_type": "execute_result",
          "data": {
            "text/html": [
              "<div>\n",
              "<style scoped>\n",
              "    .dataframe tbody tr th:only-of-type {\n",
              "        vertical-align: middle;\n",
              "    }\n",
              "\n",
              "    .dataframe tbody tr th {\n",
              "        vertical-align: top;\n",
              "    }\n",
              "\n",
              "    .dataframe thead th {\n",
              "        text-align: right;\n",
              "    }\n",
              "</style>\n",
              "<table border=\"1\" class=\"dataframe\">\n",
              "  <thead>\n",
              "    <tr style=\"text-align: right;\">\n",
              "      <th></th>\n",
              "      <th>text</th>\n",
              "      <th>label</th>\n",
              "    </tr>\n",
              "  </thead>\n",
              "  <tbody>\n",
              "    <tr>\n",
              "      <th>25182</th>\n",
              "      <td>I'm sorry, but we're booked up on Friday.</td>\n",
              "      <td>negative</td>\n",
              "    </tr>\n",
              "    <tr>\n",
              "      <th>25183</th>\n",
              "      <td>There's nothing I can think of.</td>\n",
              "      <td>neutral</td>\n",
              "    </tr>\n",
              "    <tr>\n",
              "      <th>25184</th>\n",
              "      <td>I've been looking for a long time, and I final...</td>\n",
              "      <td>positive</td>\n",
              "    </tr>\n",
              "    <tr>\n",
              "      <th>25185</th>\n",
              "      <td>I don't care. I'm going to be late for work.</td>\n",
              "      <td>negative</td>\n",
              "    </tr>\n",
              "    <tr>\n",
              "      <th>25186</th>\n",
              "      <td>Oh, not again! You're calling about the rent.</td>\n",
              "      <td>negative</td>\n",
              "    </tr>\n",
              "  </tbody>\n",
              "</table>\n",
              "</div>"
            ],
            "text/plain": [
              "                                                    text     label\n",
              "25182         I'm sorry, but we're booked up on Friday.   negative\n",
              "25183                    There's nothing I can think of.   neutral\n",
              "25184  I've been looking for a long time, and I final...  positive\n",
              "25185      I don't care. I'm going to be late for work.   negative\n",
              "25186     Oh, not again! You're calling about the rent.   negative"
            ]
          },
          "metadata": {
            "tags": []
          },
          "execution_count": 10
        }
      ]
    },
    {
      "cell_type": "code",
      "metadata": {
        "id": "xDuoQfwb-fIA"
      },
      "source": [
        "#Defining functions for Cleaning and Normalization of Data\n",
        "import re\n",
        "import string\n",
        "def replace_url(string): # cleaning of URL\n",
        "    text = re.sub(r'http\\S+', 'LINK', string)\n",
        "    return text\n",
        "\n",
        "\n",
        "def replace_email(text):#Cleaning of Email related text\n",
        "    line = re.sub(r'[\\w\\.-]+@[\\w\\.-]+','MAIL',str(text))\n",
        "    return \"\".join(line)\n",
        "\n",
        "def rep(text):#cleaning of non standard words\n",
        "    grp = text.group(0)\n",
        "    if len(grp) > 3:\n",
        "        return grp[0:2]\n",
        "    else:\n",
        "        return grp# can change the value here on repetition\n",
        "def unique_char(rep,sentence):\n",
        "    convert = re.sub(r'(\\w)\\1+', rep, sentence) \n",
        "    return convert\n",
        "\n",
        "def find_dollar(text):#Finding the dollar sign in the text\n",
        "    line=re.sub(r'\\$\\d+(?:\\.\\d+)?','PRICE',text)\n",
        "    return \"\".join(line)\n",
        "\n",
        "def replace_emoji(text):\n",
        "    emoji_pattern = re.compile(\"[\"\n",
        "    u\"\\U0001F600-\\U0001F64F\" # emoticons\n",
        "    u\"\\U0001F300-\\U0001F5FF\" # symbols & pictographs\n",
        "    u\"\\U0001F680-\\U0001F6FF\" # transport & map symbols\n",
        "    u\"\\U0001F1E0-\\U0001F1FF\" # flags (iOS)\n",
        "    u\"\\U00002702-\\U000027B0\"\n",
        "    u\"\\U000024C2-\\U0001F251\"\n",
        "    \"]+\", flags=re.UNICODE)\n",
        "    return emoji_pattern.sub(r'EMOJI', text) \n",
        "\n",
        "puncts = [':', ')', '(', '-', '!', '?', '|', ';', '$', '&', '/', '[', ']','ª',\n",
        "          '>', '%', '=', '#', '*', '+', '\\\\', '•', '~', '@', '£', '·', '_', '{', '}', '©', '^',\n",
        "          '®', '`', '<', '→', '°', '€', '™', '›', '♥', '←', '×', '§', '″', '′', 'Â', '█',\n",
        "          '½', 'à', '…', '“', '★', '”', '–', '●', 'â', '►', '−', '¢', '²', '¬', '░', '¶',\n",
        "          '↑', '±', '¿', '▾', '═', '¦', '║', '―', '¥', '▓', '—', '‹', '─', '▒', '：', '¼',\n",
        "          '⊕', '▼', '▪', '†', '■', '’', '▀', '¨', '▄', '♫', '☆', 'é', '¯', '♦', '¤', '▲',\n",
        "          'è', '¸', '¾', 'Ã', '⋅', '‘', '∞', '∙', '）', '↓', '、', '│', '（', '»', '，', '♪',\n",
        "          '╩', '╚', '³', '・', '╦', '╣', '╔', '╗', '▬', '❤', 'ï', 'Ø', '¹', '≤', '‡', '√']\n",
        "\n",
        "def clean_text(text: str) -> str:\n",
        "    text = str(text)\n",
        "    for punct in puncts:\n",
        "        if punct in text:\n",
        "            text = text.replace(punct, f' ')\n",
        "    return text\n",
        "   \n",
        "def replace_asterisk(text):\n",
        "    text = re.sub(\"\\*\", 'ABUSE ', text)\n",
        "    return text\n",
        "\n",
        "def remove_duplicates(text):\n",
        "    text = re.sub(r'\\b(\\w+\\s*)\\1{1,}', '\\\\1', text)\n",
        "    return text\n",
        "def remove_numbers(text):\n",
        "    text = re.sub(\"(\\s\\d+)\",\" \",text) \n",
        "    return text\n",
        "def change(text):\n",
        "    if(text == ''):\n",
        "        return text\n",
        "  #calling the subfunctions in the cleaning function\n",
        "    text = text.lower()\n",
        "    text = replace_email(text)\n",
        "    text = replace_url(text)\n",
        "    text = unique_char(rep,text)\n",
        "    #text = replace_asterisk(text)\n",
        "    text = remove_duplicates(text)\n",
        "    text = clean_text(text)\n",
        "    text = remove_numbers(text)\n",
        "    text = text.strip()\n",
        "    return text"
      ],
      "execution_count": null,
      "outputs": []
    },
    {
      "cell_type": "code",
      "metadata": {
        "id": "6hpy78F9-fLx"
      },
      "source": [
        "data['clean_sentence'] = data['text'].apply(lambda x : change(x))"
      ],
      "execution_count": null,
      "outputs": []
    },
    {
      "cell_type": "code",
      "metadata": {
        "colab": {
          "base_uri": "https://localhost:8080/",
          "height": 204
        },
        "id": "fFiZo6yk-fOV",
        "outputId": "0b793787-60fb-42d8-b96c-20cf2c1a68e3"
      },
      "source": [
        "data.head()"
      ],
      "execution_count": null,
      "outputs": [
        {
          "output_type": "execute_result",
          "data": {
            "text/html": [
              "<div>\n",
              "<style scoped>\n",
              "    .dataframe tbody tr th:only-of-type {\n",
              "        vertical-align: middle;\n",
              "    }\n",
              "\n",
              "    .dataframe tbody tr th {\n",
              "        vertical-align: top;\n",
              "    }\n",
              "\n",
              "    .dataframe thead th {\n",
              "        text-align: right;\n",
              "    }\n",
              "</style>\n",
              "<table border=\"1\" class=\"dataframe\">\n",
              "  <thead>\n",
              "    <tr style=\"text-align: right;\">\n",
              "      <th></th>\n",
              "      <th>text</th>\n",
              "      <th>label</th>\n",
              "      <th>clean_sentence</th>\n",
              "    </tr>\n",
              "  </thead>\n",
              "  <tbody>\n",
              "    <tr>\n",
              "      <th>0</th>\n",
              "      <td>I've really been working a lot lately.</td>\n",
              "      <td>neutral</td>\n",
              "      <td>i've really been working a lot lately.</td>\n",
              "    </tr>\n",
              "    <tr>\n",
              "      <th>1</th>\n",
              "      <td>The stock market crashed.</td>\n",
              "      <td>negative</td>\n",
              "      <td>the stock market crashed.</td>\n",
              "    </tr>\n",
              "    <tr>\n",
              "      <th>2</th>\n",
              "      <td>Everybody loves pizza.</td>\n",
              "      <td>positive</td>\n",
              "      <td>everybody loves pizza.</td>\n",
              "    </tr>\n",
              "    <tr>\n",
              "      <th>3</th>\n",
              "      <td>If I make an exception for you, I have to do i...</td>\n",
              "      <td>negative</td>\n",
              "      <td>if i make an exception for you, i have to do i...</td>\n",
              "    </tr>\n",
              "    <tr>\n",
              "      <th>4</th>\n",
              "      <td>If I have large bills, should I break them whi...</td>\n",
              "      <td>neutral</td>\n",
              "      <td>if i have large bills, should i break them whi...</td>\n",
              "    </tr>\n",
              "  </tbody>\n",
              "</table>\n",
              "</div>"
            ],
            "text/plain": [
              "                                                text  ...                                     clean_sentence\n",
              "0             I've really been working a lot lately.  ...             i've really been working a lot lately.\n",
              "1                         The stock market crashed.   ...                          the stock market crashed.\n",
              "2                             Everybody loves pizza.  ...                             everybody loves pizza.\n",
              "3  If I make an exception for you, I have to do i...  ...  if i make an exception for you, i have to do i...\n",
              "4  If I have large bills, should I break them whi...  ...  if i have large bills, should i break them whi...\n",
              "\n",
              "[5 rows x 3 columns]"
            ]
          },
          "metadata": {
            "tags": []
          },
          "execution_count": 12
        }
      ]
    },
    {
      "cell_type": "code",
      "metadata": {
        "id": "H_lbfvBz-fQ4"
      },
      "source": [
        "for i in range(50):\n",
        "  print(data.text[i])\n",
        "  print(data.clean_sentence[i])\n",
        "  print('*')"
      ],
      "execution_count": null,
      "outputs": []
    },
    {
      "cell_type": "code",
      "metadata": {
        "colab": {
          "base_uri": "https://localhost:8080/"
        },
        "id": "JS94bh1F-fTp",
        "outputId": "4ad124ba-d3b3-4e69-9d2a-fc45687ee247"
      },
      "source": [
        "data.label.value_counts()"
      ],
      "execution_count": null,
      "outputs": [
        {
          "output_type": "execute_result",
          "data": {
            "text/plain": [
              "neutral     12736\n",
              "positive     6760\n",
              "negative     5691\n",
              "Name: label, dtype: int64"
            ]
          },
          "metadata": {
            "tags": []
          },
          "execution_count": 11
        }
      ]
    },
    {
      "cell_type": "code",
      "metadata": {
        "colab": {
          "base_uri": "https://localhost:8080/"
        },
        "id": "rChK0R6uPdpN",
        "outputId": "1266e9c7-ca3f-4990-f130-344c6815676e"
      },
      "source": [
        "temp_neu = []\n",
        "for i in range(len(data)):\n",
        "  if data.label[i] == 'neutral':\n",
        "    temp_neu.append(i)\n",
        "\n",
        "len(temp_neu)"
      ],
      "execution_count": null,
      "outputs": [
        {
          "output_type": "execute_result",
          "data": {
            "text/plain": [
              "12736"
            ]
          },
          "metadata": {
            "tags": []
          },
          "execution_count": 12
        }
      ]
    },
    {
      "cell_type": "code",
      "metadata": {
        "id": "aDvg7kEi8xpb"
      },
      "source": [
        "df1 = data.drop(data.index[temp_neu[5670:]]).reset_index(drop=True)"
      ],
      "execution_count": null,
      "outputs": []
    },
    {
      "cell_type": "code",
      "metadata": {
        "colab": {
          "base_uri": "https://localhost:8080/"
        },
        "id": "iMNKDemI9Mvy",
        "outputId": "87ffa1cf-0221-4eda-fd55-5aaee69511c1"
      },
      "source": [
        "temp_pos = []\n",
        "for i in range(len(df1)):\n",
        "  if df1.label[i] == 'positive':\n",
        "    temp_pos.append(i)\n",
        "\n",
        "len(temp_pos)"
      ],
      "execution_count": null,
      "outputs": [
        {
          "output_type": "execute_result",
          "data": {
            "text/plain": [
              "6760"
            ]
          },
          "metadata": {
            "tags": []
          },
          "execution_count": 14
        }
      ]
    },
    {
      "cell_type": "code",
      "metadata": {
        "id": "SiGQwK3u9U6F"
      },
      "source": [
        "df2 = df1.drop(df1.index[temp_pos[5700:]]).reset_index(drop=True)"
      ],
      "execution_count": null,
      "outputs": []
    },
    {
      "cell_type": "code",
      "metadata": {
        "colab": {
          "base_uri": "https://localhost:8080/"
        },
        "id": "7-IHWFzF9fq2",
        "outputId": "8ff1d6e1-857d-4631-e5e8-92b439a30780"
      },
      "source": [
        "df2.label.value_counts()"
      ],
      "execution_count": null,
      "outputs": [
        {
          "output_type": "execute_result",
          "data": {
            "text/plain": [
              "positive    5700\n",
              "negative    5691\n",
              "neutral     5670\n",
              "Name: label, dtype: int64"
            ]
          },
          "metadata": {
            "tags": []
          },
          "execution_count": 16
        }
      ]
    },
    {
      "cell_type": "code",
      "metadata": {
        "colab": {
          "base_uri": "https://localhost:8080/",
          "height": 204
        },
        "id": "ATVWnyn4FhxL",
        "outputId": "c21dfcea-a79c-49cb-de3f-f5bb84eddf7f"
      },
      "source": [
        "final_df = df2\n",
        "final_df.tail()"
      ],
      "execution_count": null,
      "outputs": [
        {
          "output_type": "execute_result",
          "data": {
            "text/html": [
              "<div>\n",
              "<style scoped>\n",
              "    .dataframe tbody tr th:only-of-type {\n",
              "        vertical-align: middle;\n",
              "    }\n",
              "\n",
              "    .dataframe tbody tr th {\n",
              "        vertical-align: top;\n",
              "    }\n",
              "\n",
              "    .dataframe thead th {\n",
              "        text-align: right;\n",
              "    }\n",
              "</style>\n",
              "<table border=\"1\" class=\"dataframe\">\n",
              "  <thead>\n",
              "    <tr style=\"text-align: right;\">\n",
              "      <th></th>\n",
              "      <th>text</th>\n",
              "      <th>label</th>\n",
              "    </tr>\n",
              "  </thead>\n",
              "  <tbody>\n",
              "    <tr>\n",
              "      <th>17056</th>\n",
              "      <td>That's not a vacation. But I may have to do th...</td>\n",
              "      <td>negative</td>\n",
              "    </tr>\n",
              "    <tr>\n",
              "      <th>17057</th>\n",
              "      <td>But I have tickets to a game.</td>\n",
              "      <td>negative</td>\n",
              "    </tr>\n",
              "    <tr>\n",
              "      <th>17058</th>\n",
              "      <td>I'm sorry, but we're booked up on Friday.</td>\n",
              "      <td>negative</td>\n",
              "    </tr>\n",
              "    <tr>\n",
              "      <th>17059</th>\n",
              "      <td>I don't care. I'm going to be late for work.</td>\n",
              "      <td>negative</td>\n",
              "    </tr>\n",
              "    <tr>\n",
              "      <th>17060</th>\n",
              "      <td>Oh, not again! You're calling about the rent.</td>\n",
              "      <td>negative</td>\n",
              "    </tr>\n",
              "  </tbody>\n",
              "</table>\n",
              "</div>"
            ],
            "text/plain": [
              "                                                    text     label\n",
              "17056  That's not a vacation. But I may have to do th...  negative\n",
              "17057                     But I have tickets to a game.   negative\n",
              "17058         I'm sorry, but we're booked up on Friday.   negative\n",
              "17059      I don't care. I'm going to be late for work.   negative\n",
              "17060     Oh, not again! You're calling about the rent.   negative"
            ]
          },
          "metadata": {
            "tags": []
          },
          "execution_count": 17
        }
      ]
    },
    {
      "cell_type": "code",
      "metadata": {
        "colab": {
          "base_uri": "https://localhost:8080/"
        },
        "id": "8O8QHV4gG6bo",
        "outputId": "ff1b1acd-b32d-4892-9157-6e4eb8423247"
      },
      "source": [
        "final_df.label.value_counts(), final_df.shape"
      ],
      "execution_count": null,
      "outputs": [
        {
          "output_type": "execute_result",
          "data": {
            "text/plain": [
              "(positive    5700\n",
              " negative    5691\n",
              " neutral     5670\n",
              " Name: label, dtype: int64, (17061, 2))"
            ]
          },
          "metadata": {
            "tags": []
          },
          "execution_count": 18
        }
      ]
    },
    {
      "cell_type": "markdown",
      "metadata": {
        "id": "-3lZEkZfJS1D"
      },
      "source": [
        "**Steps For Extracting Contexual Embeddings from Distilbert/BERT**"
      ]
    },
    {
      "cell_type": "code",
      "metadata": {
        "colab": {
          "base_uri": "https://localhost:8080/",
          "height": 318,
          "referenced_widgets": [
            "89b02f81631b4220b0a8c857a7738a85",
            "10847c33669445f7a12050d4bc97390a",
            "a25c64a1a8f642a2b31e65d887a28c61",
            "7d31e114e99b462c9b8a68bebb707be6",
            "a7129317c9ab47d19ac53905641df9a9",
            "0a53dfef4ab044a4ae56618755f30b41",
            "fd3f0095c37248b29523820f9a466512",
            "cdf03ff4dc384d89b38d38e0ea517dc2",
            "b2cbd30ffda54546ab552b4b5edb5dc0",
            "97ad864a8d564577be63801f72ae6dfd",
            "4d6fcd98177d4aaca241834cb459bd8d",
            "49145d495fe04331bac2f306e0952d43",
            "8ef0c746f86e4c4cb4fbe337f1b12ff6",
            "1d6bd54260604461b2b74ed23faa9a32",
            "a90f97237b8d43319e4b6dcb31c9c3b3",
            "7841aa9644a940ea82495cc862aefce7",
            "a2439d51833340a298884774ee47c618",
            "f4054fb05f0b472db2cd2f753b112ae1",
            "442ecaa6b3e1408d95254e06f946d804",
            "43adf93436d14d039a8450fabfa128f9",
            "c70fd930bc9a4d4fb948475c7b55714f",
            "a1f15f3fdee2456ea502cad70dc8f93f",
            "26a05e9c21604ad9833efd20306413af",
            "26154d374ad54dd6a0b6ba0b8b938855",
            "4e7a3ed2e10f4b19bc17548647ae4638",
            "95ae42a10482429d908d8b0ed6aeddbb",
            "714caca96fed40e6ae603633663aeb3f",
            "3fc1f53a9d904d0abe750343e5ee9f43",
            "230fc494aa2047f2b48459a8549a1964",
            "fe514d71052a4836a9f667d13cde675e",
            "756f9e0b92fd4105bc36ed815a555227",
            "05349d1cee33491999df6a5f998688f0"
          ]
        },
        "id": "jjsEZ4Mj2-lV",
        "outputId": "bf4b4f6c-4760-4f7b-c67e-ac4d8cbc409b"
      },
      "source": [
        "# import \n",
        "from transformers import BertTokenizer, TFBertModel, BertConfig\n",
        "from transformers import DistilBertTokenizer, TFDistilBertModel\n",
        "from transformers import RobertaTokenizer, TFRobertaModel\n",
        "\n",
        "\n",
        "distil_bert = 'distilbert-base-uncased' # Name of the pretrained models\n",
        "bert = 'bert-base-uncased'\n",
        "roberta = 'roberta-base'\n",
        "\n",
        "#BERT \n",
        "tokenizer = RobertaTokenizer.from_pretrained(roberta)\n",
        "model = TFRobertaModel.from_pretrained(roberta)"
      ],
      "execution_count": null,
      "outputs": [
        {
          "output_type": "display_data",
          "data": {
            "application/vnd.jupyter.widget-view+json": {
              "model_id": "89b02f81631b4220b0a8c857a7738a85",
              "version_minor": 0,
              "version_major": 2
            },
            "text/plain": [
              "HBox(children=(FloatProgress(value=0.0, description='Downloading', max=898823.0, style=ProgressStyle(descripti…"
            ]
          },
          "metadata": {
            "tags": []
          }
        },
        {
          "output_type": "stream",
          "text": [
            "\n"
          ],
          "name": "stdout"
        },
        {
          "output_type": "display_data",
          "data": {
            "application/vnd.jupyter.widget-view+json": {
              "model_id": "b2cbd30ffda54546ab552b4b5edb5dc0",
              "version_minor": 0,
              "version_major": 2
            },
            "text/plain": [
              "HBox(children=(FloatProgress(value=0.0, description='Downloading', max=456318.0, style=ProgressStyle(descripti…"
            ]
          },
          "metadata": {
            "tags": []
          }
        },
        {
          "output_type": "stream",
          "text": [
            "\n"
          ],
          "name": "stdout"
        },
        {
          "output_type": "display_data",
          "data": {
            "application/vnd.jupyter.widget-view+json": {
              "model_id": "a2439d51833340a298884774ee47c618",
              "version_minor": 0,
              "version_major": 2
            },
            "text/plain": [
              "HBox(children=(FloatProgress(value=0.0, description='Downloading', max=481.0, style=ProgressStyle(description_…"
            ]
          },
          "metadata": {
            "tags": []
          }
        },
        {
          "output_type": "stream",
          "text": [
            "\n"
          ],
          "name": "stdout"
        },
        {
          "output_type": "display_data",
          "data": {
            "application/vnd.jupyter.widget-view+json": {
              "model_id": "4e7a3ed2e10f4b19bc17548647ae4638",
              "version_minor": 0,
              "version_major": 2
            },
            "text/plain": [
              "HBox(children=(FloatProgress(value=0.0, description='Downloading', max=657434796.0, style=ProgressStyle(descri…"
            ]
          },
          "metadata": {
            "tags": []
          }
        },
        {
          "output_type": "stream",
          "text": [
            "\n"
          ],
          "name": "stdout"
        },
        {
          "output_type": "stream",
          "text": [
            "Some layers from the model checkpoint at roberta-base were not used when initializing TFRobertaModel: ['lm_head']\n",
            "- This IS expected if you are initializing TFRobertaModel from the checkpoint of a model trained on another task or with another architecture (e.g. initializing a BertForSequenceClassification model from a BertForPreTraining model).\n",
            "- This IS NOT expected if you are initializing TFRobertaModel from the checkpoint of a model that you expect to be exactly identical (initializing a BertForSequenceClassification model from a BertForSequenceClassification model).\n",
            "All the layers of TFRobertaModel were initialized from the model checkpoint at roberta-base.\n",
            "If your task is similar to the task the model of the checkpoint was trained on, you can already use TFRobertaModel for predictions without further training.\n"
          ],
          "name": "stderr"
        }
      ]
    },
    {
      "cell_type": "code",
      "metadata": {
        "colab": {
          "base_uri": "https://localhost:8080/"
        },
        "id": "PExJPIcE3GEy",
        "outputId": "05cf41ec-e709-436d-be72-3d015fc9a32c"
      },
      "source": [
        "# obtain the 768-dim vector correpsoding to [CLS] which is a sentence vector\n",
        "e = tokenizer.encode(\"Hello my dog is cute\", add_special_tokens=False)\n",
        "print(e)\n",
        "\n",
        "input = tf.constant(e)[None, :]  # Batch size 1 \n",
        "print(input)\n",
        "print(type(input)) # shape: [1,8]\n",
        "\n",
        "output = model(input)\n",
        "\n",
        "print(type(output))\n",
        "print(len(output))\n",
        "print(output) #shape[1,8,768]"
      ],
      "execution_count": null,
      "outputs": [
        {
          "output_type": "stream",
          "text": [
            "[31414, 127, 2335, 16, 11962]\n",
            "tf.Tensor([[31414   127  2335    16 11962]], shape=(1, 5), dtype=int32)\n",
            "<class 'tensorflow.python.framework.ops.EagerTensor'>\n",
            "<class 'transformers.modeling_tf_outputs.TFBaseModelOutputWithPooling'>\n",
            "2\n",
            "TFBaseModelOutputWithPooling(last_hidden_state=<tf.Tensor: shape=(1, 5, 768), dtype=float32, numpy=\n",
            "array([[[-0.06269638,  0.09041426, -0.02503841, ..., -0.09746335,\n",
            "         -0.06634366, -0.0101432 ],\n",
            "        [-0.07917143,  0.03119747, -0.03275252, ..., -0.4369618 ,\n",
            "          0.01261801, -0.14185679],\n",
            "        [-0.01492394,  0.17120346,  0.05356141, ..., -0.22804178,\n",
            "          0.05512724,  0.09385805],\n",
            "        [ 0.01351722,  0.20617127,  0.06503488, ..., -0.3589927 ,\n",
            "          0.05936863, -0.05684781],\n",
            "        [ 0.10702726,  0.20793653, -0.03190684, ...,  0.14049453,\n",
            "          0.04335402,  0.02932693]]], dtype=float32)>, pooler_output=<tf.Tensor: shape=(1, 768), dtype=float32, numpy=\n",
            "array([[-0.00802025, -0.21904732, -0.2016452 , -0.08229407,  0.11633433,\n",
            "         0.22290924,  0.26919228, -0.07643007, -0.08509738, -0.17006354,\n",
            "         0.22113694, -0.01866947, -0.08851136,  0.12209054, -0.15518278,\n",
            "         0.4915996 ,  0.20743726, -0.46807685,  0.02977921, -0.02122855,\n",
            "        -0.27516514,  0.07913816,  0.47090265,  0.33124632,  0.12930568,\n",
            "         0.07036261, -0.1529393 , -0.01985988,  0.20158783,  0.24101286,\n",
            "         0.2886778 ,  0.05999347,  0.08678585,  0.22546348, -0.25277203,\n",
            "         0.08070943, -0.316166  ,  0.02407711,  0.2742369 , -0.19461419,\n",
            "        -0.08008586,  0.16385554,  0.20551357, -0.13176507, -0.11872195,\n",
            "         0.41008127,  0.25146988,  0.01857937, -0.14226563, -0.09243033,\n",
            "        -0.35336876,  0.33980158,  0.28930485,  0.1966444 , -0.00939836,\n",
            "         0.06112857, -0.1442145 ,  0.2400328 , -0.08117898, -0.09156385,\n",
            "        -0.12183179, -0.21040255, -0.00669511, -0.04895257,  0.03325795,\n",
            "        -0.15398583,  0.1014709 , -0.14619747, -0.15627372,  0.06404006,\n",
            "        -0.09276166,  0.12880075,  0.15546903, -0.27710342, -0.28638202,\n",
            "         0.04327957, -0.589189  , -0.11695144,  0.29520854,  0.42891404,\n",
            "        -0.13423958,  0.17098619,  0.03356439,  0.20604898,  0.00205951,\n",
            "        -0.03702613, -0.02825559, -0.11115706,  0.19104828,  0.2621317 ,\n",
            "        -0.20009738, -0.3833092 ,  0.05519196,  0.01555254, -0.09209941,\n",
            "         0.02937983, -0.0186752 , -0.11434313, -0.1608789 , -0.16612095,\n",
            "         0.05035773, -0.26917177, -0.11870299,  0.25614876, -0.04261894,\n",
            "        -0.20923403, -0.00233892,  0.30439556,  0.06184893, -0.12385605,\n",
            "        -0.17063741,  0.4262885 ,  0.33439592,  0.00241199,  0.00822445,\n",
            "         0.18929438,  0.11984789, -0.2971034 ,  0.41987792, -0.32475424,\n",
            "        -0.02598261, -0.0831649 ,  0.11983038,  0.14917955, -0.22370113,\n",
            "         0.28409702,  0.12224048,  0.27620268,  0.19294436,  0.09859571,\n",
            "        -0.05205511,  0.13169403, -0.10014966,  0.13777378,  0.22629668,\n",
            "         0.10312101, -0.00293343, -0.3350701 , -0.21773209,  0.26674566,\n",
            "         0.3382667 ,  0.14915422, -0.05575193,  0.19150953,  0.09124768,\n",
            "         0.2203279 ,  0.14746933, -0.41893888,  0.04730207,  0.36069453,\n",
            "         0.09501308,  0.14207533, -0.08240851, -0.2758476 , -0.26825008,\n",
            "        -0.07143561,  0.04740628, -0.34933358, -0.13390596,  0.35599825,\n",
            "         0.01295493, -0.00751359, -0.14462909, -0.24976353, -0.02365792,\n",
            "        -0.10527928,  0.00927988,  0.09568993, -0.09169409, -0.40748298,\n",
            "        -0.08886783, -0.55166024, -0.11354141,  0.18896407, -0.33159935,\n",
            "         0.2539216 , -0.28995222,  0.11587799,  0.4060215 ,  0.02920208,\n",
            "        -0.00843   , -0.17446026, -0.00663448,  0.09011603,  0.33223382,\n",
            "         0.23984307, -0.40072644,  0.09321996,  0.14953862,  0.25774723,\n",
            "         0.14871868, -0.04583086, -0.13337888,  0.15761825, -0.2128696 ,\n",
            "         0.17329767, -0.23388816,  0.18692797, -0.24342805, -0.22818577,\n",
            "         0.2889015 , -0.39696497, -0.03218502,  0.07984102,  0.27591136,\n",
            "         0.00942042, -0.03487528, -0.07156517,  0.13747741,  0.20134042,\n",
            "         0.14234841, -0.39948115,  0.2891637 , -0.03104731, -0.02972176,\n",
            "        -0.03753363,  0.16278292,  0.23596849,  0.11617579, -0.38745543,\n",
            "        -0.1371693 ,  0.11404311,  0.2920582 , -0.23041992,  0.1782233 ,\n",
            "        -0.29932487, -0.4039721 , -0.15401615,  0.21992062,  0.24871603,\n",
            "         0.1723626 , -0.2630919 ,  0.16786799, -0.09570708, -0.43846104,\n",
            "        -0.36685842, -0.10571369,  0.26043501,  0.18923965,  0.17561786,\n",
            "         0.23716758,  0.0451325 ,  0.13829009,  0.15436523,  0.16325292,\n",
            "        -0.153486  ,  0.18960437, -0.37167364, -0.05550387, -0.2845225 ,\n",
            "        -0.18726216, -0.1921941 ,  0.40364194, -0.23732215,  0.23338886,\n",
            "         0.39285317, -0.3032207 , -0.10654288,  0.15290248,  0.096843  ,\n",
            "         0.09607249, -0.10236507,  0.19564237,  0.16411224, -0.10261572,\n",
            "         0.24801612,  0.00526852,  0.25405094,  0.15530986,  0.09481602,\n",
            "         0.13184924,  0.1376578 , -0.15890424,  0.05856419,  0.01890829,\n",
            "        -0.03365386, -0.24645396, -0.15750375,  0.22206298, -0.03573803,\n",
            "         0.03600195, -0.16072421, -0.10011949,  0.0219114 ,  0.4126772 ,\n",
            "        -0.3528988 ,  0.2563113 ,  0.05573538,  0.14462128, -0.26756424,\n",
            "        -0.21020323,  0.09393375,  0.18165778, -0.41952875,  0.02855125,\n",
            "         0.17721215,  0.09206241,  0.20401746,  0.25681025, -0.02181043,\n",
            "        -0.11915559,  0.4896905 , -0.16964573, -0.1300558 ,  0.25548804,\n",
            "        -0.2745317 , -0.2749165 ,  0.2774334 , -0.02472208,  0.3075962 ,\n",
            "         0.12818213,  0.03846022,  0.08750886, -0.5981453 ,  0.07140258,\n",
            "        -0.46400422,  0.00227445,  0.00139768, -0.09387486, -0.2044514 ,\n",
            "         0.14774793,  0.2827277 , -0.25411248, -0.03118257,  0.19543867,\n",
            "         0.06366365, -0.11805562,  0.47180492, -0.00437074,  0.22035435,\n",
            "        -0.06140528,  0.2635126 , -0.2166279 ,  0.2812011 , -0.2751686 ,\n",
            "        -0.08860545,  0.03075998,  0.08407908,  0.06759033, -0.06472444,\n",
            "        -0.34553528,  0.24989423, -0.01855056, -0.05845512, -0.03747471,\n",
            "         0.11545243,  0.00098706,  0.04628482,  0.04998949,  0.31230977,\n",
            "         0.23838933, -0.00763631, -0.36822298, -0.03238276, -0.07951187,\n",
            "         0.03416541,  0.04090776, -0.00685447,  0.4389399 , -0.09627163,\n",
            "         0.02112647, -0.14325844,  0.26272124,  0.20850512,  0.1285195 ,\n",
            "         0.1271079 ,  0.0644682 ,  0.13209137, -0.06283924, -0.01393965,\n",
            "        -0.16299987, -0.23733371, -0.29202247,  0.21392187, -0.24732074,\n",
            "        -0.17295428,  0.15523122,  0.1970596 , -0.14732781,  0.13479403,\n",
            "         0.31404236,  0.09807832, -0.14058594,  0.25885832, -0.12174415,\n",
            "         0.09389764,  0.31469974, -0.01745795,  0.19252825,  0.49462298,\n",
            "         0.21831079, -0.37019414, -0.03271028, -0.21032688,  0.00125674,\n",
            "         0.24553291, -0.1537843 ,  0.21602395,  0.39150584,  0.3093961 ,\n",
            "         0.46285903,  0.00831105, -0.13486248,  0.09096284,  0.24197857,\n",
            "         0.05013683, -0.14306135, -0.18163866,  0.25855386,  0.06792118,\n",
            "        -0.11456487, -0.03131268, -0.14700529,  0.04802595, -0.14921802,\n",
            "        -0.4006664 ,  0.05333777,  0.19634795, -0.48531562,  0.09940492,\n",
            "        -0.28688467,  0.02152849, -0.23457845,  0.200512  , -0.23270285,\n",
            "        -0.12728502,  0.40185842, -0.08547279,  0.04992093, -0.19482526,\n",
            "        -0.13882788,  0.02916514,  0.0240958 , -0.03380196, -0.02631102,\n",
            "         0.34307298, -0.13056791,  0.03833011,  0.02195146,  0.2173127 ,\n",
            "        -0.02976692,  0.19052677,  0.02545034, -0.13282192, -0.38416132,\n",
            "         0.13969259, -0.19119042, -0.43010926, -0.38577092,  0.34949118,\n",
            "        -0.12756962, -0.25425303, -0.22908899, -0.25979036,  0.0748845 ,\n",
            "         0.18441786,  0.46040657, -0.37577966, -0.0773236 ,  0.48691356,\n",
            "        -0.06752525, -0.18192762,  0.29398122,  0.18851753, -0.33310154,\n",
            "         0.3495995 ,  0.28010064, -0.03731285,  0.03547489,  0.51562524,\n",
            "         0.11805807,  0.20990387, -0.22748102,  0.45432445, -0.23033929,\n",
            "         0.3140375 , -0.14449707, -0.21252854, -0.22303396, -0.00088287,\n",
            "         0.34716898,  0.18499927, -0.4116965 , -0.11701161,  0.05079883,\n",
            "         0.33950886, -0.37829927, -0.08579096,  0.00693252, -0.3529312 ,\n",
            "         0.09223526,  0.09863438,  0.23889329, -0.3725394 ,  0.0070066 ,\n",
            "         0.392029  , -0.31017086,  0.1192462 ,  0.292846  ,  0.0832783 ,\n",
            "         0.3562998 , -0.0497939 , -0.01191626,  0.05575465, -0.22824875,\n",
            "        -0.05539196,  0.13862818,  0.54939836,  0.15360618, -0.38368055,\n",
            "         0.09434599,  0.24615605, -0.15751109,  0.29993618, -0.08596338,\n",
            "        -0.06428465,  0.26566094, -0.06983913,  0.15445861, -0.08825576,\n",
            "        -0.2441747 , -0.30008712,  0.36135197, -0.21926537, -0.11160229,\n",
            "        -0.17099969, -0.11823384, -0.14492129,  0.05033085, -0.40381086,\n",
            "         0.34135604,  0.12760742, -0.2110231 , -0.10523926, -0.10525755,\n",
            "        -0.17064048, -0.23477001, -0.25292906,  0.43921134, -0.16360953,\n",
            "        -0.45202568,  0.27392006,  0.02932709,  0.34303594,  0.01991414,\n",
            "         0.09544434, -0.06221171,  0.12591118,  0.09394244, -0.10380754,\n",
            "         0.2793657 ,  0.0583729 , -0.560296  , -0.12165707, -0.23132314,\n",
            "         0.07442676,  0.21013093, -0.34593493,  0.03462955,  0.03465875,\n",
            "         0.14699146,  0.0318602 , -0.12332205, -0.07066829,  0.3933452 ,\n",
            "         0.25737503,  0.27904132,  0.09325525,  0.24660549, -0.01238729,\n",
            "        -0.3258725 ,  0.03882531,  0.07394164, -0.19493961,  0.43871137,\n",
            "        -0.11446935, -0.39675334, -0.06870253,  0.40139452,  0.1232625 ,\n",
            "        -0.02572604, -0.051235  ,  0.2081567 ,  0.14867209, -0.1393865 ,\n",
            "         0.1812487 , -0.04313713, -0.14953452, -0.1193256 ,  0.07752445,\n",
            "        -0.22764884,  0.04645568, -0.13802567, -0.01381865, -0.19956304,\n",
            "         0.00608083, -0.20170039,  0.26546   , -0.33431607,  0.1334197 ,\n",
            "         0.05609945,  0.3154107 , -0.34590998, -0.17184505, -0.06087631,\n",
            "         0.15752211,  0.26249242,  0.35197338,  0.01617965,  0.03163094,\n",
            "        -0.14404298, -0.26711753,  0.06705043, -0.17384748,  0.14653283,\n",
            "         0.06989313,  0.25289327, -0.30760944, -0.18441781,  0.22048116,\n",
            "        -0.10881326, -0.14561757,  0.42480475,  0.24153426,  0.21619496,\n",
            "         0.01462422,  0.2586393 ,  0.03124834, -0.18683985, -0.11806099,\n",
            "        -0.25698528,  0.08625376, -0.07964721, -0.04459648, -0.05992943,\n",
            "        -0.11567056, -0.2130785 , -0.15761547,  0.14157446,  0.13933009,\n",
            "         0.02969567, -0.05443871, -0.01203718, -0.29029334,  0.28676316,\n",
            "         0.02499795,  0.07551293, -0.0472927 ,  0.01179723, -0.15379566,\n",
            "         0.25451645,  0.21815917,  0.0880612 , -0.2003274 , -0.05412905,\n",
            "        -0.3048737 , -0.36748642,  0.0698645 ,  0.14112714,  0.09884943,\n",
            "        -0.06351966, -0.27100918, -0.01814606, -0.13340868,  0.18770476,\n",
            "         0.03309882, -0.15424901, -0.07639132, -0.04968806, -0.0490156 ,\n",
            "         0.07524619, -0.2120405 , -0.1843667 , -0.11922325, -0.06287413,\n",
            "        -0.08443657,  0.3487186 , -0.0636531 ,  0.2824203 , -0.1472903 ,\n",
            "         0.01129297, -0.15853342,  0.11127423, -0.05972197,  0.04901838,\n",
            "         0.2851952 , -0.46358424, -0.15166251, -0.01126287, -0.21216609,\n",
            "        -0.15267868, -0.05664966, -0.04294012,  0.22402087, -0.33800173,\n",
            "         0.22774658, -0.11334984,  0.19238788, -0.07623667, -0.24275604,\n",
            "        -0.15088005,  0.01122746,  0.23568028, -0.35554245, -0.23143794,\n",
            "        -0.27350205, -0.1030212 , -0.08947448, -0.27588335,  0.42394945,\n",
            "        -0.10940615, -0.09547029,  0.01917871,  0.42581594,  0.21287158,\n",
            "         0.15116586,  0.22895479, -0.01144824,  0.02767592,  0.11827926,\n",
            "        -0.46991408,  0.22979127, -0.2494407 , -0.12899706, -0.00386856,\n",
            "         0.097225  , -0.01808997,  0.0102628 , -0.14145274, -0.10726573,\n",
            "         0.21854477, -0.38668573, -0.04363796,  0.26411143,  0.15466186,\n",
            "        -0.24699335,  0.03883623,  0.11811554,  0.3832329 ,  0.11905006,\n",
            "        -0.2104603 ,  0.12104299, -0.34948754, -0.0318986 , -0.18684378,\n",
            "        -0.29669368,  0.15571676, -0.07630868,  0.08110455, -0.0984861 ,\n",
            "        -0.2946702 ,  0.21520402, -0.05471027, -0.05459062,  0.40763423,\n",
            "         0.03011306, -0.12824306,  0.15357259,  0.00799238,  0.01977866,\n",
            "        -0.11130982,  0.25227454,  0.2156346 , -0.27971575,  0.16275048,\n",
            "        -0.12262061, -0.04020792, -0.13142133]], dtype=float32)>, hidden_states=None, attentions=None)\n"
          ],
          "name": "stdout"
        }
      ]
    },
    {
      "cell_type": "code",
      "metadata": {
        "colab": {
          "base_uri": "https://localhost:8080/"
        },
        "id": "CErJGSaRBkuJ",
        "outputId": "932eb241-e99b-41d9-d259-99aff7a9f597"
      },
      "source": [
        "model"
      ],
      "execution_count": null,
      "outputs": [
        {
          "output_type": "execute_result",
          "data": {
            "text/plain": [
              "<transformers.models.roberta.modeling_tf_roberta.TFRobertaModel at 0x7f675c1fa550>"
            ]
          },
          "metadata": {
            "tags": []
          },
          "execution_count": 7
        }
      ]
    },
    {
      "cell_type": "code",
      "metadata": {
        "id": "UVIl-FevOMzc",
        "colab": {
          "base_uri": "https://localhost:8080/"
        },
        "outputId": "d97502e9-167d-4748-c56a-bdb29f6a2858"
      },
      "source": [
        "text = final_df.text[2700]\n",
        "print(text)\n",
        "e = tokenizer.encode(text, add_special_tokens=False)\n",
        "print(len(e))\n",
        "print(e)\n",
        "temp_split = tokenizer.tokenize(text)\n",
        "print(len(temp_split))\n",
        "print(temp_split)"
      ],
      "execution_count": null,
      "outputs": [
        {
          "output_type": "stream",
          "text": [
            "Is the suspect in this line-up?\n",
            "9\n",
            "[6209, 5, 1985, 11, 42, 516, 12, 658, 116]\n",
            "9\n",
            "['Is', 'Ġthe', 'Ġsuspect', 'Ġin', 'Ġthis', 'Ġline', '-', 'up', '?']\n"
          ],
          "name": "stdout"
        }
      ]
    },
    {
      "cell_type": "code",
      "metadata": {
        "colab": {
          "base_uri": "https://localhost:8080/",
          "height": 35
        },
        "id": "yMK9J34PPFuu",
        "outputId": "195e1e32-c736-415b-8057-f5ec974bf2b0"
      },
      "source": [
        "final_df.text[2700]"
      ],
      "execution_count": null,
      "outputs": [
        {
          "output_type": "execute_result",
          "data": {
            "application/vnd.google.colaboratory.intrinsic+json": {
              "type": "string"
            },
            "text/plain": [
              "'Is the suspect in this line-up?'"
            ]
          },
          "metadata": {
            "tags": []
          },
          "execution_count": 23
        }
      ]
    },
    {
      "cell_type": "code",
      "metadata": {
        "id": "59gzoYkxCtsP"
      },
      "source": [
        "text = \"Replace me by any text you'd like.\"\n",
        "encoded_input = tokenizer.tokenize(text)"
      ],
      "execution_count": null,
      "outputs": []
    },
    {
      "cell_type": "code",
      "metadata": {
        "colab": {
          "base_uri": "https://localhost:8080/"
        },
        "id": "Rs83wxPgCwvV",
        "outputId": "2221ef1d-37ee-41c2-8c00-59a2e8b5080c"
      },
      "source": [
        "encoded_input"
      ],
      "execution_count": null,
      "outputs": [
        {
          "output_type": "execute_result",
          "data": {
            "text/plain": [
              "['Re', 'place', 'Ġme', 'Ġby', 'Ġany', 'Ġtext', 'Ġyou', \"'d\", 'Ġlike', '.']"
            ]
          },
          "metadata": {
            "tags": []
          },
          "execution_count": 31
        }
      ]
    },
    {
      "cell_type": "markdown",
      "metadata": {
        "id": "USQFrXdpPEjh"
      },
      "source": [
        "**Create function for Mapping Words to ids and Word Embeddings**"
      ]
    },
    {
      "cell_type": "code",
      "metadata": {
        "id": "N-OwB_XNxfQa"
      },
      "source": [
        "# sentence wise contextual embeddings\n",
        "def word_ids_embeddings(dataframe):\n",
        "  word_ids = {} # index of words => word->ids, ex:'for'->2005, \n",
        "  word_embeddings = {} # word->embeddings \n",
        "  dummy_index = [] # if both tokenization lengths are not matching\n",
        "  for i in tqdm(range(len(dataframe))):\n",
        "    text = str(dataframe.text[i])\n",
        "    e = tokenizer.encode(text, add_special_tokens=False) # token ids\n",
        "    text_token = tokenizer.tokenize(text)\n",
        "    input = tf.constant(e)[None, :]  # Batch size 1 \n",
        "    output = model(input)[0][0]\n",
        "    if len(e) == len(output) == len(text_token):\n",
        "      for j in range(len(e)):\n",
        "        word_ids[text_token[j]] = e[j] # word->ids\n",
        "        final_out = np.asarray(output[j]) # convert as numpy array\n",
        "        word_embeddings[text_token[j]] = final_out # word->embeddings\n",
        "    else:\n",
        "      dummy_index.append(i) # if lengths are not matching\n",
        "  return word_ids, word_embeddings, dummy_index"
      ],
      "execution_count": null,
      "outputs": []
    },
    {
      "cell_type": "code",
      "metadata": {
        "colab": {
          "base_uri": "https://localhost:8080/"
        },
        "id": "eRa0-71XMzk0",
        "outputId": "a2865436-9899-4d96-e7ab-fec19dd109e2"
      },
      "source": [
        "word_ids, word_embeddings, dummy_index = word_ids_embeddings(final_df)\n",
        "len(word_ids), len(word_embeddings), len(dummy_index)"
      ],
      "execution_count": null,
      "outputs": [
        {
          "output_type": "stream",
          "text": [
            "100%|██████████| 17061/17061 [1:00:50<00:00,  4.67it/s]\n"
          ],
          "name": "stderr"
        },
        {
          "output_type": "execute_result",
          "data": {
            "text/plain": [
              "(10250, 10250, 0)"
            ]
          },
          "metadata": {
            "tags": []
          },
          "execution_count": 33
        }
      ]
    },
    {
      "cell_type": "code",
      "metadata": {
        "id": "0qBkHw_AdB-A"
      },
      "source": [
        "# save ids words->ids as vocab.txt file\n",
        "import os\n",
        "for key, value in word_ids.items(): \n",
        "  #print(key, value[0])\n",
        "  temp = key +\" \"+str(value)\n",
        "  with open('vocab-v1.txt', 'a') as f1:\n",
        "    f1.write(temp + os.linesep)"
      ],
      "execution_count": null,
      "outputs": []
    },
    {
      "cell_type": "code",
      "metadata": {
        "colab": {
          "base_uri": "https://localhost:8080/"
        },
        "id": "VsHDPM1HIdlj",
        "outputId": "cd77f25b-7c9e-457f-cb1e-586175e2ab84"
      },
      "source": [
        "# max vocab\n",
        "max_vocab = []\n",
        "index_of_words = word_ids\n",
        "for key, value in word_embeddings.items():\n",
        "  if key in index_of_words:\n",
        "    idx = index_of_words[key]\n",
        "    max_vocab.append(idx)\n",
        "\n",
        "max(max_vocab) # 29591, 29659"
      ],
      "execution_count": null,
      "outputs": [
        {
          "output_type": "execute_result",
          "data": {
            "text/plain": [
              "50141"
            ]
          },
          "metadata": {
            "tags": []
          },
          "execution_count": 35
        }
      ]
    },
    {
      "cell_type": "code",
      "metadata": {
        "id": "1FVBfSmrIjcb"
      },
      "source": [
        "def create_embedding_matrix(max_vocab, word_embeddings, word_index, embedding_dim):\n",
        "    vocab_size = max(max_vocab) + 1  # Adding again 1 because of reserved 0 index 29567-all ids \n",
        "    embedding_matrix = np.zeros((vocab_size, embedding_dim))\n",
        "    for word, vector in word_embeddings.items():\n",
        "      if word in word_index:\n",
        "        idx = word_index[word] \n",
        "        #print(idx, word)\n",
        "        embedding_matrix[idx] = np.array(vector, dtype=np.float32)[:embedding_dim]\n",
        "    return embedding_matrix"
      ],
      "execution_count": null,
      "outputs": []
    },
    {
      "cell_type": "code",
      "metadata": {
        "colab": {
          "base_uri": "https://localhost:8080/"
        },
        "id": "3t4xXTkaIXTm",
        "outputId": "035a9de0-36e3-48d1-d774-0bf3d6a1d4ee"
      },
      "source": [
        "embed_num_dims = 300 # 768, 300, 100\n",
        "index_of_words = word_ids\n",
        "embedd_matrix = create_embedding_matrix(max_vocab, word_embeddings, index_of_words, embed_num_dims)\n",
        "embedd_matrix.shape"
      ],
      "execution_count": null,
      "outputs": [
        {
          "output_type": "execute_result",
          "data": {
            "text/plain": [
              "(50142, 300)"
            ]
          },
          "metadata": {
            "tags": []
          },
          "execution_count": 37
        }
      ]
    },
    {
      "cell_type": "code",
      "metadata": {
        "id": "Bi3sivhrIXwJ"
      },
      "source": [
        "# Embedding layer before the actaul BLSTM \n",
        "vocab_size = max(max_vocab) + 1\n",
        "max_seq_len = 100\n",
        "embedd_layer = Embedding(vocab_size,\n",
        "                         embed_num_dims,\n",
        "                         input_length = max_seq_len,\n",
        "                         weights = [embedd_matrix],\n",
        "                         trainable=False)"
      ],
      "execution_count": null,
      "outputs": []
    },
    {
      "cell_type": "code",
      "metadata": {
        "id": "WpMc2F3dJK-Y",
        "colab": {
          "base_uri": "https://localhost:8080/"
        },
        "outputId": "7a0c52a7-660e-4959-89fb-c0e911b8294b"
      },
      "source": [
        "# Convolution\n",
        "kernel_size = 3\n",
        "filters = 256\n",
        "num_classes =3\n",
        "model_cnn = Sequential()\n",
        "model_cnn.add(embedd_layer)\n",
        "model_cnn.add(Conv1D(filters, kernel_size, activation='relu'))\n",
        "model_cnn.add(GlobalMaxPooling1D())\n",
        "model_cnn.add(Dense(256, activation='relu'))\n",
        "model_cnn.add(Dense(num_classes, activation='softmax'))\n",
        "model_cnn.compile(loss = 'categorical_crossentropy', optimizer = 'adam', metrics = ['accuracy'])\n",
        "model_cnn.summary()"
      ],
      "execution_count": null,
      "outputs": [
        {
          "output_type": "stream",
          "text": [
            "Model: \"sequential_1\"\n",
            "_________________________________________________________________\n",
            "Layer (type)                 Output Shape              Param #   \n",
            "=================================================================\n",
            "embedding (Embedding)        (None, 100, 300)          15042600  \n",
            "_________________________________________________________________\n",
            "conv1d_1 (Conv1D)            (None, 98, 256)           230656    \n",
            "_________________________________________________________________\n",
            "global_max_pooling1d_1 (Glob (None, 256)               0         \n",
            "_________________________________________________________________\n",
            "dense_2 (Dense)              (None, 256)               65792     \n",
            "_________________________________________________________________\n",
            "dense_3 (Dense)              (None, 3)                 771       \n",
            "=================================================================\n",
            "Total params: 15,339,819\n",
            "Trainable params: 297,219\n",
            "Non-trainable params: 15,042,600\n",
            "_________________________________________________________________\n"
          ],
          "name": "stdout"
        }
      ]
    },
    {
      "cell_type": "code",
      "metadata": {
        "id": "GMAxglBfIX7U"
      },
      "source": [
        "from tensorflow.keras.callbacks import EarlyStopping, ModelCheckpoint\n",
        "# path to save weights\n",
        "#path_w = '/content/drive/My Drive/DataToBiz/speech_to_emotion_engine/models/'\n",
        "early_stopping = EarlyStopping(monitor='val_loss', patience=5, verbose=1)\n",
        "checkpointer = ModelCheckpoint(filepath='weights_datasetv2_cnnv2.hdf5', verbose=1, save_best_only=True)"
      ],
      "execution_count": null,
      "outputs": []
    },
    {
      "cell_type": "code",
      "metadata": {
        "colab": {
          "base_uri": "https://localhost:8080/"
        },
        "id": "ngmxnQwuZ0O1",
        "outputId": "7d21da26-7bfa-4cc9-a68d-468f007dfe8e"
      },
      "source": [
        "final_df.shape"
      ],
      "execution_count": null,
      "outputs": [
        {
          "output_type": "execute_result",
          "data": {
            "text/plain": [
              "(17061, 2)"
            ]
          },
          "metadata": {
            "tags": []
          },
          "execution_count": 42
        }
      ]
    },
    {
      "cell_type": "code",
      "metadata": {
        "colab": {
          "base_uri": "https://localhost:8080/",
          "height": 204
        },
        "id": "kNCsbnyEZ3TI",
        "outputId": "16781f66-d47c-4a42-861d-c1b7a5f76001"
      },
      "source": [
        "final_df.head()"
      ],
      "execution_count": null,
      "outputs": [
        {
          "output_type": "execute_result",
          "data": {
            "text/html": [
              "<div>\n",
              "<style scoped>\n",
              "    .dataframe tbody tr th:only-of-type {\n",
              "        vertical-align: middle;\n",
              "    }\n",
              "\n",
              "    .dataframe tbody tr th {\n",
              "        vertical-align: top;\n",
              "    }\n",
              "\n",
              "    .dataframe thead th {\n",
              "        text-align: right;\n",
              "    }\n",
              "</style>\n",
              "<table border=\"1\" class=\"dataframe\">\n",
              "  <thead>\n",
              "    <tr style=\"text-align: right;\">\n",
              "      <th></th>\n",
              "      <th>text</th>\n",
              "      <th>label</th>\n",
              "    </tr>\n",
              "  </thead>\n",
              "  <tbody>\n",
              "    <tr>\n",
              "      <th>0</th>\n",
              "      <td>I've really been working a lot lately.</td>\n",
              "      <td>neutral</td>\n",
              "    </tr>\n",
              "    <tr>\n",
              "      <th>1</th>\n",
              "      <td>The stock market crashed.</td>\n",
              "      <td>negative</td>\n",
              "    </tr>\n",
              "    <tr>\n",
              "      <th>2</th>\n",
              "      <td>Everybody loves pizza.</td>\n",
              "      <td>positive</td>\n",
              "    </tr>\n",
              "    <tr>\n",
              "      <th>3</th>\n",
              "      <td>If I make an exception for you, I have to do i...</td>\n",
              "      <td>negative</td>\n",
              "    </tr>\n",
              "    <tr>\n",
              "      <th>4</th>\n",
              "      <td>If I have large bills, should I break them whi...</td>\n",
              "      <td>neutral</td>\n",
              "    </tr>\n",
              "  </tbody>\n",
              "</table>\n",
              "</div>"
            ],
            "text/plain": [
              "                                                text     label\n",
              "0             I've really been working a lot lately.   neutral\n",
              "1                         The stock market crashed.   negative\n",
              "2                             Everybody loves pizza.  positive\n",
              "3  If I make an exception for you, I have to do i...  negative\n",
              "4  If I have large bills, should I break them whi...   neutral"
            ]
          },
          "metadata": {
            "tags": []
          },
          "execution_count": 43
        }
      ]
    },
    {
      "cell_type": "code",
      "metadata": {
        "colab": {
          "base_uri": "https://localhost:8080/"
        },
        "id": "vwG2MRVTIYN4",
        "outputId": "2c04608e-fec2-4154-bf69-40307367e8af"
      },
      "source": [
        "# split dataset\n",
        "from sklearn.model_selection import train_test_split\n",
        "X = final_df.text\n",
        "y = final_df.label\n",
        "\n",
        "X_train, X_test, y_train, y_test = train_test_split(X, y, test_size=0.1, random_state =42, shuffle=True)\n",
        "print(X_train.shape)\n",
        "print(X_test.shape)"
      ],
      "execution_count": null,
      "outputs": [
        {
          "output_type": "stream",
          "text": [
            "(15354,)\n",
            "(1707,)\n"
          ],
          "name": "stdout"
        }
      ]
    },
    {
      "cell_type": "code",
      "metadata": {
        "id": "fL2cc9hRJt8H"
      },
      "source": [
        "# tokenization\n",
        "X_train_tokenized = X_train.apply((lambda x: tokenizer.encode(x, add_special_tokens=False)))\n",
        "X_test_tokenized = X_test.apply((lambda x: tokenizer.encode(x, add_special_tokens=False)))"
      ],
      "execution_count": null,
      "outputs": []
    },
    {
      "cell_type": "code",
      "metadata": {
        "colab": {
          "base_uri": "https://localhost:8080/"
        },
        "id": "OA2IpPs8IYRm",
        "outputId": "6350a488-c889-4b48-cea2-302855131eba"
      },
      "source": [
        "# padding\n",
        "max_seq_len = 100\n",
        "X_train_pad = pad_sequences(X_train_tokenized, maxlen = max_seq_len, padding='post')\n",
        "X_test_pad = pad_sequences(X_test_tokenized, maxlen = max_seq_len, padding='post')\n",
        "X_train_pad"
      ],
      "execution_count": null,
      "outputs": [
        {
          "output_type": "execute_result",
          "data": {
            "text/plain": [
              "array([[ 2264,    59,  7893, ...,     0,     0,     0],\n",
              "       [  894,    34,  2710, ...,     0,     0,     0],\n",
              "       [14783,     6,    14, ...,     0,     0,     0],\n",
              "       ...,\n",
              "       [ 1185,   240,     7, ...,     0,     0,     0],\n",
              "       [ 1708,    24,   473, ...,     0,     0,     0],\n",
              "       [  100,    56,   239, ...,     0,     0,     0]], dtype=int32)"
            ]
          },
          "metadata": {
            "tags": []
          },
          "execution_count": 46
        }
      ]
    },
    {
      "cell_type": "code",
      "metadata": {
        "id": "We-ylxIUJ3QY"
      },
      "source": [
        "encoding = {'negative': 0, 'neutral': 1, 'positive': 2}\n",
        "# Integer labels\n",
        "y_train = [encoding[x] for x in y_train]\n",
        "y_test = [encoding[x] for x in y_test]"
      ],
      "execution_count": null,
      "outputs": []
    },
    {
      "cell_type": "code",
      "metadata": {
        "colab": {
          "base_uri": "https://localhost:8080/"
        },
        "id": "Yg1qUF5lJ98U",
        "outputId": "39bb1ba9-2935-4e67-fd48-b6d5973786d6"
      },
      "source": [
        "y_train = to_categorical(y_train)\n",
        "y_test = to_categorical(y_test)\n",
        "y_train"
      ],
      "execution_count": null,
      "outputs": [
        {
          "output_type": "execute_result",
          "data": {
            "text/plain": [
              "array([[0., 1., 0.],\n",
              "       [0., 0., 1.],\n",
              "       [0., 0., 1.],\n",
              "       ...,\n",
              "       [0., 1., 0.],\n",
              "       [0., 0., 1.],\n",
              "       [1., 0., 0.]], dtype=float32)"
            ]
          },
          "metadata": {
            "tags": []
          },
          "execution_count": 48
        }
      ]
    },
    {
      "cell_type": "code",
      "metadata": {
        "colab": {
          "base_uri": "https://localhost:8080/"
        },
        "id": "PUZoLZ4dKBZ1",
        "outputId": "3a2ce3bc-aea4-4407-dbc2-cd9049e8c878"
      },
      "source": [
        "batch_size = 12\n",
        "epochs = 30\n",
        "\n",
        "hist = model_cnn.fit(X_train_pad, y_train, \n",
        "                 batch_size=batch_size,\n",
        "                 epochs=epochs,\n",
        "                 validation_data=(X_test_pad,y_test), \n",
        "                 callbacks=[early_stopping, checkpointer])"
      ],
      "execution_count": null,
      "outputs": [
        {
          "output_type": "stream",
          "text": [
            "Epoch 1/30\n",
            "1280/1280 [==============================] - 38s 30ms/step - loss: 0.5310 - accuracy: 0.7596 - val_loss: 0.4011 - val_accuracy: 0.8190\n",
            "\n",
            "Epoch 00001: val_loss improved from inf to 0.40105, saving model to weights_datasetv2_cnnv2.hdf5\n",
            "Epoch 2/30\n",
            "1280/1280 [==============================] - 38s 29ms/step - loss: 0.2778 - accuracy: 0.8769 - val_loss: 0.3364 - val_accuracy: 0.8576\n",
            "\n",
            "Epoch 00002: val_loss improved from 0.40105 to 0.33635, saving model to weights_datasetv2_cnnv2.hdf5\n",
            "Epoch 3/30\n",
            "1280/1280 [==============================] - 37s 29ms/step - loss: 0.2040 - accuracy: 0.9139 - val_loss: 0.3379 - val_accuracy: 0.8658\n",
            "\n",
            "Epoch 00003: val_loss did not improve from 0.33635\n",
            "Epoch 4/30\n",
            "1280/1280 [==============================] - 37s 29ms/step - loss: 0.1373 - accuracy: 0.9448 - val_loss: 0.3805 - val_accuracy: 0.8653\n",
            "\n",
            "Epoch 00004: val_loss did not improve from 0.33635\n",
            "Epoch 5/30\n",
            "1280/1280 [==============================] - 37s 29ms/step - loss: 0.1012 - accuracy: 0.9598 - val_loss: 0.4845 - val_accuracy: 0.8407\n",
            "\n",
            "Epoch 00005: val_loss did not improve from 0.33635\n",
            "Epoch 6/30\n",
            "1280/1280 [==============================] - 37s 29ms/step - loss: 0.0750 - accuracy: 0.9710 - val_loss: 0.5558 - val_accuracy: 0.8401\n",
            "\n",
            "Epoch 00006: val_loss did not improve from 0.33635\n",
            "Epoch 7/30\n",
            "1280/1280 [==============================] - 37s 29ms/step - loss: 0.0550 - accuracy: 0.9795 - val_loss: 0.5903 - val_accuracy: 0.8448\n",
            "\n",
            "Epoch 00007: val_loss did not improve from 0.33635\n",
            "Epoch 00007: early stopping\n"
          ],
          "name": "stdout"
        }
      ]
    },
    {
      "cell_type": "code",
      "metadata": {
        "id": "4cJj0kGxiUL8"
      },
      "source": [
        "# Save the model to disk\n",
        "model_json = model_cnn.to_json()\n",
        "with open(\"model_json.json\", \"w\") as json_file:\n",
        "    json_file.write(model_json)"
      ],
      "execution_count": null,
      "outputs": []
    },
    {
      "cell_type": "code",
      "metadata": {
        "colab": {
          "base_uri": "https://localhost:8080/"
        },
        "id": "rVd9Dg20iCAO",
        "outputId": "8a6bf90a-d40b-4cef-8ee9-5d6795be772f"
      },
      "source": [
        "# loading json and model architecture \n",
        "json_file = open('model_json.json', 'r')\n",
        "loaded_model_json = json_file.read()\n",
        "json_file.close()\n",
        "loaded_model = model_from_json(loaded_model_json)\n",
        "\n",
        "# load weights into new model\n",
        "loaded_model.load_weights(\"weights_datasetv2_cnnv2.hdf5\")\n",
        "print(\"Model Loaded\")\n",
        "\n",
        "# the optimiser\n",
        "loaded_model.compile(loss = 'categorical_crossentropy', optimizer = 'adam', metrics = ['accuracy'])"
      ],
      "execution_count": null,
      "outputs": [
        {
          "output_type": "stream",
          "text": [
            "Model Loaded\n"
          ],
          "name": "stdout"
        }
      ]
    },
    {
      "cell_type": "code",
      "metadata": {
        "id": "mktWhFGbLEiM"
      },
      "source": [
        "class_names = ['negative', 'neutral', 'positive']\n",
        "predictions = loaded_model.predict(X_test_pad)\n",
        "predictions = np.argmax(predictions, axis=1)\n",
        "predictions = [class_names[pred] for pred in predictions]"
      ],
      "execution_count": null,
      "outputs": []
    },
    {
      "cell_type": "code",
      "metadata": {
        "id": "EjWbHyfTLOtl"
      },
      "source": [
        "y_test1 = np.argmax(y_test, axis=1)\n",
        "y_test1 = [class_names[x] for x in y_test1]"
      ],
      "execution_count": null,
      "outputs": []
    },
    {
      "cell_type": "code",
      "metadata": {
        "colab": {
          "base_uri": "https://localhost:8080/"
        },
        "id": "vD2lURIoLOxc",
        "outputId": "eb24c19b-168e-4ce0-e42d-40176c9cbd9c"
      },
      "source": [
        "print(\"Accuracy: {:.2f}%\".format(accuracy_score(y_test1, predictions) * 100))\n",
        "print(\"\\nF1 Score: {:.2f}\".format(f1_score(y_test1, predictions, average='micro') * 100))"
      ],
      "execution_count": null,
      "outputs": [
        {
          "output_type": "stream",
          "text": [
            "Accuracy: 85.76%\n",
            "\n",
            "F1 Score: 85.76\n"
          ],
          "name": "stdout"
        }
      ]
    },
    {
      "cell_type": "code",
      "metadata": {
        "id": "TTpJGq5zLO11"
      },
      "source": [
        "def plot_confusion_matrix(y_true, y_pred, classes,\n",
        "                          normalize=False,\n",
        "                          title=None,\n",
        "                          cmap=plt.cm.Blues):\n",
        "    '''\n",
        "    This function prints and plots the confusion matrix.\n",
        "    Normalization can be applied by setting `normalize=True`.\n",
        "    '''\n",
        "    if not title:\n",
        "        if normalize:\n",
        "            title = 'Normalized confusion matrix'\n",
        "        else:\n",
        "            title = 'Confusion matrix, without normalization'\n",
        "\n",
        "    # Compute confusion matrix\n",
        "    cm = confusion_matrix(y_true, y_pred)\n",
        "\n",
        "    if normalize:\n",
        "        cm = cm.astype('float') / cm.sum(axis=1)[:, np.newaxis]\n",
        "\n",
        "    fig, ax = plt.subplots()\n",
        "    \n",
        "    # Set size\n",
        "    fig.set_size_inches(12.5, 7.5)\n",
        "    im = ax.imshow(cm, interpolation='nearest', cmap=cmap)\n",
        "    ax.figure.colorbar(im, ax=ax)\n",
        "    ax.grid(False)\n",
        "    \n",
        "    # We want to show all ticks...\n",
        "    ax.set(xticks=np.arange(cm.shape[1]),\n",
        "           yticks=np.arange(cm.shape[0]),\n",
        "           # ... and label them with the respective list entries\n",
        "           xticklabels=classes, yticklabels=classes,\n",
        "           title=title,\n",
        "           ylabel='True label',\n",
        "           xlabel='Predicted label')\n",
        "\n",
        "    # Rotate the tick labels and set their alignment.\n",
        "    plt.setp(ax.get_xticklabels(), rotation=45, ha=\"right\",\n",
        "             rotation_mode=\"anchor\")\n",
        "\n",
        "    # Loop over data dimensions and create text annotations.\n",
        "    fmt = '.2f' if normalize else 'd'\n",
        "    thresh = cm.max() / 2.\n",
        "    for i in range(cm.shape[0]):\n",
        "        for j in range(cm.shape[1]):\n",
        "            ax.text(j, i, format(cm[i, j], fmt),\n",
        "                    ha=\"center\", va=\"center\",\n",
        "                    color=\"white\" if cm[i, j] > thresh else \"black\")\n",
        "    fig.tight_layout()\n",
        "    return ax"
      ],
      "execution_count": null,
      "outputs": []
    },
    {
      "cell_type": "code",
      "metadata": {
        "colab": {
          "base_uri": "https://localhost:8080/",
          "height": 583
        },
        "id": "0byClU4bLW1L",
        "outputId": "4753ea89-4423-491e-f63b-4f458872fbbd"
      },
      "source": [
        "print(\"\\nF1 Score: {:.2f}\".format(f1_score(y_test1, predictions, average='micro') * 100))\n",
        "\n",
        "# Plot normalized confusion matrix\n",
        "plot_confusion_matrix(y_test1, predictions, classes=class_names, normalize=True, title='Normalized confusion matrix')\n",
        "plt.show()"
      ],
      "execution_count": null,
      "outputs": [
        {
          "output_type": "stream",
          "text": [
            "\n",
            "F1 Score: 85.76\n"
          ],
          "name": "stdout"
        },
        {
          "output_type": "display_data",
          "data": {
            "image/png": "[encoded data removed]",
            "text/plain": [
              "<Figure size 900x540 with 2 Axes>"
            ]
          },
          "metadata": {
            "tags": [],
            "needs_background": "light"
          }
        }
      ]
    },
    {
      "cell_type": "code",
      "metadata": {
        "colab": {
          "base_uri": "https://localhost:8080/"
        },
        "id": "7aeegX1eLZmP",
        "outputId": "36f34104-c235-4753-8aab-676f97a65cdc"
      },
      "source": [
        "loaded_model.save(\"my_model2\")"
      ],
      "execution_count": null,
      "outputs": [
        {
          "output_type": "stream",
          "text": [
            "INFO:tensorflow:Assets written to: my_model2/assets\n"
          ],
          "name": "stdout"
        }
      ]
    },
    {
      "cell_type": "code",
      "metadata": {
        "id": "qxKMIQlVLbuj"
      },
      "source": [
        "import tensorflow as tf\n",
        "converter = tf.lite.TFLiteConverter.from_saved_model(\"my_model2\")\n",
        "converter.optimizations = [tf.lite.Optimize.DEFAULT]\n",
        "tflite_quant_model = converter.convert()\n",
        "\n",
        "# Save the model.\n",
        "with open('model.tflite', 'wb') as f:\n",
        "  f.write(tflite_quant_model)"
      ],
      "execution_count": null,
      "outputs": []
    },
    {
      "cell_type": "code",
      "metadata": {
        "colab": {
          "base_uri": "https://localhost:8080/"
        },
        "id": "Mm-w9XB2Lqr4",
        "outputId": "735cc7c4-0a7d-4825-9c10-c8cfb4dcb140"
      },
      "source": [
        "text = \"good keep going\"\n",
        "tokens= tokenizer.encode(text, add_special_tokens=False)\n",
        "len1 = 100 - len(tokens)\n",
        "for i in range(len1):\n",
        "  tokens.append(0)\n",
        "\n",
        "tokens = np.asarray(tokens)\n",
        "tok = np.expand_dims(tokens, axis=0)\n",
        "out = model_cnn.predict(tok)\n",
        "predictions1 = np.argmax(out, axis=1)\n",
        "pred1 = [class_names[pred] for pred in predictions1]\n",
        "pred1"
      ],
      "execution_count": null,
      "outputs": [
        {
          "output_type": "execute_result",
          "data": {
            "text/plain": [
              "['positive']"
            ]
          },
          "metadata": {
            "tags": []
          },
          "execution_count": 72
        }
      ]
    },
    {
      "cell_type": "code",
      "metadata": {
        "id": "yga5tuYxV4Ob"
      },
      "source": [
        "for text, label in zip(X_test, y_test):\n",
        "  print(text, '-->', label)\n",
        "  print('\\n')"
      ],
      "execution_count": null,
      "outputs": []
    },
    {
      "cell_type": "code",
      "metadata": {
        "id": "Libls9fMWlBY"
      },
      "source": [
        ""
      ],
      "execution_count": null,
      "outputs": []
    }
  ]
}